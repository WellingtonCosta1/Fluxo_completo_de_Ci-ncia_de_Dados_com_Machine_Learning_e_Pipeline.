{
 "cells": [
  {
   "cell_type": "code",
   "execution_count": 99,
   "id": "60d8e078-79a5-4cf9-9ed1-a3b295186e8c",
   "metadata": {},
   "outputs": [],
   "source": [
    "!pip3 install -q -U watermark\n",
    "%load_ext watermark"
   ]
  },
  {
   "cell_type": "code",
   "execution_count": 3,
   "id": "7e48f028-dfec-4f73-a743-2f6db646faeb",
   "metadata": {},
   "outputs": [],
   "source": [
    "#Imports\n",
    "\n",
    "import sklearn \n",
    "import numpy as np\n",
    "import pandas as pd\n",
    "import matplotlib.pyplot as plt\n",
    "import seaborn as sns\n",
    "from sklearn.model_selection import train_test_split\n",
    "from sklearn.preprocessing import OneHotEncoder, OrdinalEncoder, StandardScaler\n",
    "from sklearn.compose import ColumnTransformer\n",
    "from sklearn.pipeline import Pipeline\n",
    "from sklearn.linear_model import LinearRegression\n",
    "from sklearn.metrics import mean_squared_error, r2_score\n",
    "import warnings"
   ]
  },
  {
   "cell_type": "code",
   "execution_count": 101,
   "id": "bd356e9b-e26a-4879-a474-74e1382400ea",
   "metadata": {},
   "outputs": [
    {
     "name": "stdout",
     "output_type": "stream",
     "text": [
      "Author: Wellington Costa\n",
      "\n"
     ]
    }
   ],
   "source": [
    "warnings.filterwarnings('ignore')\n",
    "%watermark -a \"Wellington Costa\""
   ]
  },
  {
   "cell_type": "markdown",
   "id": "e861cfab-b6d9-481a-bfd2-683a0154893e",
   "metadata": {},
   "source": [
    "## Carregando e Identificando os Tipos de Dados"
   ]
  },
  {
   "cell_type": "code",
   "execution_count": 4,
   "id": "3a374b13-30ab-4cce-b78c-1bef30b93757",
   "metadata": {},
   "outputs": [],
   "source": [
    "# Carrega o dataset\n",
    "df = pd.read_csv('dataset.csv')"
   ]
  },
  {
   "cell_type": "code",
   "execution_count": 5,
   "id": "f43059d0-d775-4894-8aad-337be8dd5f45",
   "metadata": {},
   "outputs": [
    {
     "data": {
      "text/plain": [
       "(400, 7)"
      ]
     },
     "execution_count": 5,
     "metadata": {},
     "output_type": "execute_result"
    }
   ],
   "source": [
    "# Shape\n",
    "df.shape"
   ]
  },
  {
   "cell_type": "code",
   "execution_count": 6,
   "id": "534aba35-fa6f-4cad-833d-49efd31cfddd",
   "metadata": {},
   "outputs": [
    {
     "name": "stdout",
     "output_type": "stream",
     "text": [
      "<class 'pandas.core.frame.DataFrame'>\n",
      "RangeIndex: 400 entries, 0 to 399\n",
      "Data columns (total 7 columns):\n",
      " #   Column                Non-Null Count  Dtype  \n",
      "---  ------                --------------  -----  \n",
      " 0   valor_venda_unitario  400 non-null    float64\n",
      " 1   valor_venda_total     400 non-null    int64  \n",
      " 2   custo_entrega         400 non-null    int64  \n",
      " 3   status_entrega        400 non-null    object \n",
      " 4   idade_vendedor        400 non-null    int64  \n",
      " 5   area_urbana           400 non-null    object \n",
      " 6   cliente_local         400 non-null    object \n",
      "dtypes: float64(1), int64(3), object(3)\n",
      "memory usage: 22.0+ KB\n"
     ]
    }
   ],
   "source": [
    "# Info\n",
    "df.info()"
   ]
  },
  {
   "cell_type": "code",
   "execution_count": 8,
   "id": "645d5419-3e92-4478-af08-08baf010f029",
   "metadata": {},
   "outputs": [
    {
     "data": {
      "text/html": [
       "<div>\n",
       "<style scoped>\n",
       "    .dataframe tbody tr th:only-of-type {\n",
       "        vertical-align: middle;\n",
       "    }\n",
       "\n",
       "    .dataframe tbody tr th {\n",
       "        vertical-align: top;\n",
       "    }\n",
       "\n",
       "    .dataframe thead th {\n",
       "        text-align: right;\n",
       "    }\n",
       "</style>\n",
       "<table border=\"1\" class=\"dataframe\">\n",
       "  <thead>\n",
       "    <tr style=\"text-align: right;\">\n",
       "      <th></th>\n",
       "      <th>valor_venda_unitario</th>\n",
       "      <th>valor_venda_total</th>\n",
       "      <th>custo_entrega</th>\n",
       "      <th>status_entrega</th>\n",
       "      <th>idade_vendedor</th>\n",
       "      <th>area_urbana</th>\n",
       "      <th>cliente_local</th>\n",
       "    </tr>\n",
       "  </thead>\n",
       "  <tbody>\n",
       "    <tr>\n",
       "      <th>0</th>\n",
       "      <td>9.50</td>\n",
       "      <td>138</td>\n",
       "      <td>11</td>\n",
       "      <td>Ruim</td>\n",
       "      <td>42</td>\n",
       "      <td>Sim</td>\n",
       "      <td>Sim</td>\n",
       "    </tr>\n",
       "    <tr>\n",
       "      <th>1</th>\n",
       "      <td>11.22</td>\n",
       "      <td>111</td>\n",
       "      <td>16</td>\n",
       "      <td>Bom</td>\n",
       "      <td>65</td>\n",
       "      <td>Sim</td>\n",
       "      <td>Sim</td>\n",
       "    </tr>\n",
       "    <tr>\n",
       "      <th>2</th>\n",
       "      <td>10.06</td>\n",
       "      <td>113</td>\n",
       "      <td>10</td>\n",
       "      <td>Medio</td>\n",
       "      <td>59</td>\n",
       "      <td>Sim</td>\n",
       "      <td>Sim</td>\n",
       "    </tr>\n",
       "    <tr>\n",
       "      <th>3</th>\n",
       "      <td>7.40</td>\n",
       "      <td>117</td>\n",
       "      <td>4</td>\n",
       "      <td>Medio</td>\n",
       "      <td>55</td>\n",
       "      <td>Sim</td>\n",
       "      <td>Sim</td>\n",
       "    </tr>\n",
       "    <tr>\n",
       "      <th>4</th>\n",
       "      <td>4.15</td>\n",
       "      <td>141</td>\n",
       "      <td>3</td>\n",
       "      <td>Ruim</td>\n",
       "      <td>38</td>\n",
       "      <td>Sim</td>\n",
       "      <td>Nao</td>\n",
       "    </tr>\n",
       "  </tbody>\n",
       "</table>\n",
       "</div>"
      ],
      "text/plain": [
       "   valor_venda_unitario  valor_venda_total  custo_entrega status_entrega  \\\n",
       "0                  9.50                138             11           Ruim   \n",
       "1                 11.22                111             16            Bom   \n",
       "2                 10.06                113             10          Medio   \n",
       "3                  7.40                117              4          Medio   \n",
       "4                  4.15                141              3           Ruim   \n",
       "\n",
       "   idade_vendedor area_urbana cliente_local  \n",
       "0              42         Sim           Sim  \n",
       "1              65         Sim           Sim  \n",
       "2              59         Sim           Sim  \n",
       "3              55         Sim           Sim  \n",
       "4              38         Sim           Nao  "
      ]
     },
     "execution_count": 8,
     "metadata": {},
     "output_type": "execute_result"
    }
   ],
   "source": [
    "# Amostra dos dados\n",
    "df.head()"
   ]
  },
  {
   "cell_type": "markdown",
   "id": "28e867e2-e396-4cff-9d72-84b2d03a31a0",
   "metadata": {},
   "source": [
    "## Análise Exploratória de Acordo com o tipo de Variável"
   ]
  },
  {
   "cell_type": "code",
   "execution_count": 104,
   "id": "67c7496f-d259-44b8-91f0-bf6e7843801b",
   "metadata": {},
   "outputs": [],
   "source": [
    "# Configuração de estilo\n",
    "sns.set(style='darkgrid')"
   ]
  },
  {
   "cell_type": "code",
   "execution_count": 105,
   "id": "9884e8a7-a9f6-4907-994c-1fc39f3e79c0",
   "metadata": {},
   "outputs": [
    {
     "data": {
      "image/png": "[encoded data removed]",
      "text/plain": [
       "<Figure size 1000x400 with 1 Axes>"
      ]
     },
     "metadata": {},
     "output_type": "display_data"
    }
   ],
   "source": [
    "# Plot de valor_venda_unitario\n",
    "fig, axes = plt.subplots(1, 1, figsize = (10, 4))\n",
    "fig.suptitle('Distribuição do valor de Venda Unitária')\n",
    "sns.histplot(df['valor_venda_unitario'], kde = True);"
   ]
  },
  {
   "cell_type": "code",
   "execution_count": 106,
   "id": "3aff1ee8-ab48-426e-912e-4c72392b95a6",
   "metadata": {},
   "outputs": [
    {
     "data": {
      "image/png": "[encoded data removed]",
      "text/plain": [
       "<Figure size 1000x400 with 1 Axes>"
      ]
     },
     "metadata": {},
     "output_type": "display_data"
    }
   ],
   "source": [
    "# Plot de valor_venda_total\n",
    "fig, axes = plt.subplots(1, 1, figsize = (10, 4))\n",
    "fig.suptitle('Distribuição do valor de Venda Totais')\n",
    "sns.histplot(df['valor_venda_total'], kde = True);"
   ]
  },
  {
   "cell_type": "code",
   "execution_count": 107,
   "id": "ca7eaf07-042b-4e08-a66a-63049d06c38c",
   "metadata": {},
   "outputs": [
    {
     "data": {
      "image/png": "[encoded data removed]",
      "text/plain": [
       "<Figure size 1000x400 with 1 Axes>"
      ]
     },
     "metadata": {},
     "output_type": "display_data"
    }
   ],
   "source": [
    "# Plot de custo_entrega\n",
    "fig, axes = plt.subplots(1, 1, figsize = (10, 4))\n",
    "fig.suptitle('Distribuição do Custo Entrega')\n",
    "sns.histplot(df['custo_entrega'], kde = True);"
   ]
  },
  {
   "cell_type": "code",
   "execution_count": 108,
   "id": "08fdd08d-0b5b-46aa-a937-9fbb9f1133b1",
   "metadata": {},
   "outputs": [
    {
     "data": {
      "image/png": "[encoded data removed]",
      "text/plain": [
       "<Figure size 1000x400 with 1 Axes>"
      ]
     },
     "metadata": {},
     "output_type": "display_data"
    }
   ],
   "source": [
    "# Plot de idade_vendedor\n",
    "fig, axes = plt.subplots(1, 1, figsize = (10, 4))\n",
    "fig.suptitle('Distribuição da Idade do Vendedor')\n",
    "sns.histplot(df['idade_vendedor'], kde = True);"
   ]
  },
  {
   "cell_type": "code",
   "execution_count": 14,
   "id": "bac771ed-79d7-4d68-8fe1-f1f48075d655",
   "metadata": {},
   "outputs": [],
   "source": [
    "# Configurando o estilo\n",
    "sns.set(style='whitegrid')"
   ]
  },
  {
   "cell_type": "code",
   "execution_count": 15,
   "id": "54bdfc54-3ab9-4eca-a2a6-5056cccd5d81",
   "metadata": {},
   "outputs": [
    {
     "data": {
      "text/plain": [
       "status_entrega\n",
       "Medio    219\n",
       "Ruim      96\n",
       "Bom       85\n",
       "Name: count, dtype: int64"
      ]
     },
     "execution_count": 15,
     "metadata": {},
     "output_type": "execute_result"
    }
   ],
   "source": [
    "# Tabela de frequência\n",
    "df['status_entrega'].value_counts()"
   ]
  },
  {
   "cell_type": "code",
   "execution_count": 16,
   "id": "bc023b52-1513-4176-aef2-e731fd1dbc6d",
   "metadata": {},
   "outputs": [
    {
     "data": {
      "image/png": "[encoded data removed]",
      "text/plain": [
       "<Figure size 1000x400 with 1 Axes>"
      ]
     },
     "metadata": {},
     "output_type": "display_data"
    }
   ],
   "source": [
    "# Plot de status_entrega\n",
    "fig, axes = plt.subplots(1, 1, figsize = (10, 4))\n",
    "fig.suptitle('Distribuição de Status de Entrega')\n",
    "sns.countplot(data = df, x = 'status_entrega');"
   ]
  },
  {
   "cell_type": "code",
   "execution_count": 17,
   "id": "3fae860b-fa66-47b2-b0d7-1e54f844e876",
   "metadata": {},
   "outputs": [
    {
     "data": {
      "text/plain": [
       "area_urbana\n",
       "Sim    282\n",
       "Nao    118\n",
       "Name: count, dtype: int64"
      ]
     },
     "execution_count": 17,
     "metadata": {},
     "output_type": "execute_result"
    }
   ],
   "source": [
    "# Tabela de frequência\n",
    "df['area_urbana'].value_counts()"
   ]
  },
  {
   "cell_type": "code",
   "execution_count": 18,
   "id": "d0b5c490-90c1-4c1d-a34f-008caca91cc4",
   "metadata": {},
   "outputs": [
    {
     "data": {
      "image/png": "[encoded data removed]",
      "text/plain": [
       "<Figure size 1000x400 with 1 Axes>"
      ]
     },
     "metadata": {},
     "output_type": "display_data"
    }
   ],
   "source": [
    "# Plot de area_urbana\n",
    "fig, axes = plt.subplots(1, 1, figsize = (10, 4))\n",
    "fig.suptitle('Distribuição de Área Urbana')\n",
    "sns.countplot(data = df, x = 'area_urbana');"
   ]
  },
  {
   "cell_type": "code",
   "execution_count": 20,
   "id": "90e225b4-0ea6-4d53-9a87-cf866fcdbacb",
   "metadata": {},
   "outputs": [
    {
     "data": {
      "text/plain": [
       "cliente_local\n",
       "Sim    258\n",
       "Nao    142\n",
       "Name: count, dtype: int64"
      ]
     },
     "execution_count": 20,
     "metadata": {},
     "output_type": "execute_result"
    }
   ],
   "source": [
    "# Tabela de frequência\n",
    "df['cliente_local'].value_counts()"
   ]
  },
  {
   "cell_type": "code",
   "execution_count": 23,
   "id": "36373b01-a7af-419c-8bde-94fb3dfa0718",
   "metadata": {},
   "outputs": [
    {
     "data": {
      "image/png": "[encoded data removed]",
      "text/plain": [
       "<Figure size 1000x400 with 1 Axes>"
      ]
     },
     "metadata": {},
     "output_type": "display_data"
    }
   ],
   "source": [
    "# Plot de cliente_local\n",
    "fig, axes = plt.subplots(1, 1, figsize = (10, 4))\n",
    "fig.suptitle('Distribuição de Cliente Local')\n",
    "df['cliente_local'].value_counts().plot(kind = 'pie', autopct = '%1.1f%%');"
   ]
  },
  {
   "cell_type": "markdown",
   "id": "e4ff881e-483d-4101-b9be-6d29dbd7159b",
   "metadata": {},
   "source": [
    "## Criando e Analisando Tabela de Frequência em Python"
   ]
  },
  {
   "cell_type": "code",
   "execution_count": 24,
   "id": "d67d8e48-d4b9-4f7e-bd5c-f4842c182306",
   "metadata": {},
   "outputs": [],
   "source": [
    "# Cria a tabela de frequência \n",
    "freq_status_entrega = df['status_entrega'].value_counts()"
   ]
  },
  {
   "cell_type": "code",
   "execution_count": 25,
   "id": "4a5f9e34-d498-443a-bd65-3f11cdbacc71",
   "metadata": {},
   "outputs": [
    {
     "data": {
      "text/plain": [
       "status_entrega\n",
       "Medio    219\n",
       "Ruim      96\n",
       "Bom       85\n",
       "Name: count, dtype: int64"
      ]
     },
     "execution_count": 25,
     "metadata": {},
     "output_type": "execute_result"
    }
   ],
   "source": [
    "freq_status_entrega"
   ]
  },
  {
   "cell_type": "code",
   "execution_count": 26,
   "id": "9775a02f-6ac9-460b-85b3-ad6ff74648cb",
   "metadata": {},
   "outputs": [],
   "source": [
    "# Cria a tabela de frequência\n",
    "freq_area_urbana = df['area_urbana'].value_counts()"
   ]
  },
  {
   "cell_type": "code",
   "execution_count": 27,
   "id": "55c4be38-53d6-4323-b040-98063ef69ba5",
   "metadata": {},
   "outputs": [
    {
     "data": {
      "text/plain": [
       "area_urbana\n",
       "Sim    282\n",
       "Nao    118\n",
       "Name: count, dtype: int64"
      ]
     },
     "execution_count": 27,
     "metadata": {},
     "output_type": "execute_result"
    }
   ],
   "source": [
    "freq_area_urbana"
   ]
  },
  {
   "cell_type": "code",
   "execution_count": 28,
   "id": "c5ce3b28-a7b4-4ff8-a232-e8f32bb1eb45",
   "metadata": {},
   "outputs": [],
   "source": [
    "# Cria a tabela de frequência\n",
    "freq_cliente_local = df['cliente_local'].value_counts()"
   ]
  },
  {
   "cell_type": "code",
   "execution_count": 29,
   "id": "6b201df5-2684-492c-8221-f5f4361c4ac2",
   "metadata": {},
   "outputs": [
    {
     "data": {
      "text/plain": [
       "cliente_local\n",
       "Sim    258\n",
       "Nao    142\n",
       "Name: count, dtype: int64"
      ]
     },
     "execution_count": 29,
     "metadata": {},
     "output_type": "execute_result"
    }
   ],
   "source": [
    "freq_cliente_local"
   ]
  },
  {
   "cell_type": "markdown",
   "id": "1e66d5e0-431c-41de-830a-5737bf937299",
   "metadata": {},
   "source": [
    "## Criando e Analisando Tabela de Contigência em Python"
   ]
  },
  {
   "cell_type": "code",
   "execution_count": 31,
   "id": "f640d00d-6493-4e99-8e87-22fef19f50bb",
   "metadata": {},
   "outputs": [],
   "source": [
    "# Cria a tabela de contingência\n",
    "conting_status_area = pd.crosstab(df['status_entrega'], df['area_urbana'])"
   ]
  },
  {
   "cell_type": "code",
   "execution_count": 32,
   "id": "b58a0b83-1528-4065-8918-db352357e2c1",
   "metadata": {},
   "outputs": [
    {
     "data": {
      "text/html": [
       "<div>\n",
       "<style scoped>\n",
       "    .dataframe tbody tr th:only-of-type {\n",
       "        vertical-align: middle;\n",
       "    }\n",
       "\n",
       "    .dataframe tbody tr th {\n",
       "        vertical-align: top;\n",
       "    }\n",
       "\n",
       "    .dataframe thead th {\n",
       "        text-align: right;\n",
       "    }\n",
       "</style>\n",
       "<table border=\"1\" class=\"dataframe\">\n",
       "  <thead>\n",
       "    <tr style=\"text-align: right;\">\n",
       "      <th>area_urbana</th>\n",
       "      <th>Nao</th>\n",
       "      <th>Sim</th>\n",
       "    </tr>\n",
       "    <tr>\n",
       "      <th>status_entrega</th>\n",
       "      <th></th>\n",
       "      <th></th>\n",
       "    </tr>\n",
       "  </thead>\n",
       "  <tbody>\n",
       "    <tr>\n",
       "      <th>Bom</th>\n",
       "      <td>28</td>\n",
       "      <td>57</td>\n",
       "    </tr>\n",
       "    <tr>\n",
       "      <th>Medio</th>\n",
       "      <td>68</td>\n",
       "      <td>151</td>\n",
       "    </tr>\n",
       "    <tr>\n",
       "      <th>Ruim</th>\n",
       "      <td>22</td>\n",
       "      <td>74</td>\n",
       "    </tr>\n",
       "  </tbody>\n",
       "</table>\n",
       "</div>"
      ],
      "text/plain": [
       "area_urbana     Nao  Sim\n",
       "status_entrega          \n",
       "Bom              28   57\n",
       "Medio            68  151\n",
       "Ruim             22   74"
      ]
     },
     "execution_count": 32,
     "metadata": {},
     "output_type": "execute_result"
    }
   ],
   "source": [
    "conting_status_area"
   ]
  },
  {
   "cell_type": "code",
   "execution_count": 33,
   "id": "5ab5e583-2234-4624-9f22-b564e95c67ce",
   "metadata": {},
   "outputs": [],
   "source": [
    "# Cria tabela de contingência \n",
    "conting_status_cliente = pd.crosstab(df['status_entrega'], df['cliente_local'])"
   ]
  },
  {
   "cell_type": "code",
   "execution_count": 34,
   "id": "096f58b2-a449-4530-b88f-dc8066057a11",
   "metadata": {},
   "outputs": [
    {
     "data": {
      "text/html": [
       "<div>\n",
       "<style scoped>\n",
       "    .dataframe tbody tr th:only-of-type {\n",
       "        vertical-align: middle;\n",
       "    }\n",
       "\n",
       "    .dataframe tbody tr th {\n",
       "        vertical-align: top;\n",
       "    }\n",
       "\n",
       "    .dataframe thead th {\n",
       "        text-align: right;\n",
       "    }\n",
       "</style>\n",
       "<table border=\"1\" class=\"dataframe\">\n",
       "  <thead>\n",
       "    <tr style=\"text-align: right;\">\n",
       "      <th>cliente_local</th>\n",
       "      <th>Nao</th>\n",
       "      <th>Sim</th>\n",
       "    </tr>\n",
       "    <tr>\n",
       "      <th>status_entrega</th>\n",
       "      <th></th>\n",
       "      <th></th>\n",
       "    </tr>\n",
       "  </thead>\n",
       "  <tbody>\n",
       "    <tr>\n",
       "      <th>Bom</th>\n",
       "      <td>24</td>\n",
       "      <td>61</td>\n",
       "    </tr>\n",
       "    <tr>\n",
       "      <th>Medio</th>\n",
       "      <td>84</td>\n",
       "      <td>135</td>\n",
       "    </tr>\n",
       "    <tr>\n",
       "      <th>Ruim</th>\n",
       "      <td>34</td>\n",
       "      <td>62</td>\n",
       "    </tr>\n",
       "  </tbody>\n",
       "</table>\n",
       "</div>"
      ],
      "text/plain": [
       "cliente_local   Nao  Sim\n",
       "status_entrega          \n",
       "Bom              24   61\n",
       "Medio            84  135\n",
       "Ruim             34   62"
      ]
     },
     "execution_count": 34,
     "metadata": {},
     "output_type": "execute_result"
    }
   ],
   "source": [
    "conting_status_cliente"
   ]
  },
  {
   "cell_type": "code",
   "execution_count": 36,
   "id": "e328626e-42ce-4083-a444-6eff8502dc6e",
   "metadata": {},
   "outputs": [],
   "source": [
    "# Criando uma tabela de contingência com três variáveis\n",
    "contingency_3d = pd.crosstab(index = [df['status_entrega'], df['area_urbana']],\n",
    "                             columns = df['cliente_local'],\n",
    "                             margins = True,\n",
    "                             margins_name = 'Total')"
   ]
  },
  {
   "cell_type": "code",
   "execution_count": 37,
   "id": "9f125d58-2f62-47f3-8103-f38a580650e4",
   "metadata": {},
   "outputs": [
    {
     "data": {
      "text/html": [
       "<div>\n",
       "<style scoped>\n",
       "    .dataframe tbody tr th:only-of-type {\n",
       "        vertical-align: middle;\n",
       "    }\n",
       "\n",
       "    .dataframe tbody tr th {\n",
       "        vertical-align: top;\n",
       "    }\n",
       "\n",
       "    .dataframe thead th {\n",
       "        text-align: right;\n",
       "    }\n",
       "</style>\n",
       "<table border=\"1\" class=\"dataframe\">\n",
       "  <thead>\n",
       "    <tr style=\"text-align: right;\">\n",
       "      <th></th>\n",
       "      <th>cliente_local</th>\n",
       "      <th>Nao</th>\n",
       "      <th>Sim</th>\n",
       "      <th>Total</th>\n",
       "    </tr>\n",
       "    <tr>\n",
       "      <th>status_entrega</th>\n",
       "      <th>area_urbana</th>\n",
       "      <th></th>\n",
       "      <th></th>\n",
       "      <th></th>\n",
       "    </tr>\n",
       "  </thead>\n",
       "  <tbody>\n",
       "    <tr>\n",
       "      <th rowspan=\"2\" valign=\"top\">Bom</th>\n",
       "      <th>Nao</th>\n",
       "      <td>6</td>\n",
       "      <td>22</td>\n",
       "      <td>28</td>\n",
       "    </tr>\n",
       "    <tr>\n",
       "      <th>Sim</th>\n",
       "      <td>18</td>\n",
       "      <td>39</td>\n",
       "      <td>57</td>\n",
       "    </tr>\n",
       "    <tr>\n",
       "      <th rowspan=\"2\" valign=\"top\">Medio</th>\n",
       "      <th>Nao</th>\n",
       "      <td>29</td>\n",
       "      <td>39</td>\n",
       "      <td>68</td>\n",
       "    </tr>\n",
       "    <tr>\n",
       "      <th>Sim</th>\n",
       "      <td>55</td>\n",
       "      <td>96</td>\n",
       "      <td>151</td>\n",
       "    </tr>\n",
       "    <tr>\n",
       "      <th rowspan=\"2\" valign=\"top\">Ruim</th>\n",
       "      <th>Nao</th>\n",
       "      <td>11</td>\n",
       "      <td>11</td>\n",
       "      <td>22</td>\n",
       "    </tr>\n",
       "    <tr>\n",
       "      <th>Sim</th>\n",
       "      <td>23</td>\n",
       "      <td>51</td>\n",
       "      <td>74</td>\n",
       "    </tr>\n",
       "    <tr>\n",
       "      <th>Total</th>\n",
       "      <th></th>\n",
       "      <td>142</td>\n",
       "      <td>258</td>\n",
       "      <td>400</td>\n",
       "    </tr>\n",
       "  </tbody>\n",
       "</table>\n",
       "</div>"
      ],
      "text/plain": [
       "cliente_local               Nao  Sim  Total\n",
       "status_entrega area_urbana                 \n",
       "Bom            Nao            6   22     28\n",
       "               Sim           18   39     57\n",
       "Medio          Nao           29   39     68\n",
       "               Sim           55   96    151\n",
       "Ruim           Nao           11   11     22\n",
       "               Sim           23   51     74\n",
       "Total                       142  258    400"
      ]
     },
     "execution_count": 37,
     "metadata": {},
     "output_type": "execute_result"
    }
   ],
   "source": [
    "contingency_3d"
   ]
  },
  {
   "cell_type": "markdown",
   "id": "17c3b2d2-58c2-481c-9695-01bcf5f2c22c",
   "metadata": {},
   "source": [
    "## Estratégia 1 de Tratamento de variáveis Catégoricas - One-Hot Encoding\n",
    "Ideal para variáveis qualitativas nominais."
   ]
  },
  {
   "cell_type": "markdown",
   "id": "adef1dbe-a513-439f-a2c4-235163bff43b",
   "metadata": {},
   "source": [
    "![DSA](one-hot-encoding.png)"
   ]
  },
  {
   "cell_type": "code",
   "execution_count": 39,
   "id": "607029f5-3a90-4ce4-966b-6b55b077b668",
   "metadata": {},
   "outputs": [],
   "source": [
    "# Selecionando as variáveis independentes (X) e a dependente (y)\n",
    "X = df.drop('custo_entrega', axis = 1)\n",
    "y = df['custo_entrega']"
   ]
  },
  {
   "cell_type": "code",
   "execution_count": 47,
   "id": "330ed31c-88bf-479c-816b-a4871457b3fc",
   "metadata": {},
   "outputs": [],
   "source": [
    "# Separa as variáveis categóricas e numéricas, pois terão processamentos diferentes\n",
    "categorical_features = ['status_entrega', 'area_urbana', 'cliente_local']\n",
    "numerical_features = ['valor_venda_unitario', 'valor_venda_total', 'idade_vendedor']"
   ]
  },
  {
   "cell_type": "code",
   "execution_count": 48,
   "id": "3782b5d8-7a1f-4aa6-8720-f166441a8cff",
   "metadata": {},
   "outputs": [],
   "source": [
    "# Cria o transformador para variáveis categóricas  o 'drop = first' evita uma alta colinariedade\n",
    "categorical_transformer = OneHotEncoder(drop = 'first')"
   ]
  },
  {
   "cell_type": "code",
   "execution_count": 49,
   "id": "1cddb543-72dd-4e0d-b42d-6f54d9d899e3",
   "metadata": {},
   "outputs": [],
   "source": [
    "# Cria o transformador para variáveis numéricas\n",
    "numerical_transforme = StandardScaler()"
   ]
  },
  {
   "cell_type": "markdown",
   "id": "4c960225-9d3b-4371-9e0f-8fb28294c5a4",
   "metadata": {},
   "source": [
    "- Não precisa aplicar o 'StandardScaler' no conjunto de dados categorico pois o 'OneHotEnconder' já coloca as variavéis em uma única escala.\n",
    "- O StandardScaler() -> Coloca os Conjuntos de dados númericos em uma única escala."
   ]
  },
  {
   "cell_type": "code",
   "execution_count": 50,
   "id": "711f3512-939d-4606-99ec-cc768d34659d",
   "metadata": {},
   "outputs": [],
   "source": [
    "# Combina os transformadores\n",
    "# Pré-processamento: Codificação One-Hot para variáveis categóricas e padronização para nméricas\n",
    "preprocessor_v1 = ColumnTransformer(\n",
    "    transformers = [\n",
    "        ('num', numerical_transforme, numerical_features),\n",
    "        ('cat', categorical_transformer, categorical_features)]\n",
    ")"
   ]
  },
  {
   "cell_type": "code",
   "execution_count": 51,
   "id": "71560ecc-74a4-4818-8953-50e75c05106f",
   "metadata": {},
   "outputs": [],
   "source": [
    "# Criando o pipeline com o processamento e com o modelo \n",
    "modelo_v1 = Pipeline(steps = [('preprocessor', preprocessor_v1), ('regressor', LinearRegression())])"
   ]
  },
  {
   "cell_type": "markdown",
   "id": "8b0dd611-1145-4e1f-a5aa-3284a125e92b",
   "metadata": {},
   "source": [
    "## Impacto da Estratégia 1 na Modelagem Preditiva"
   ]
  },
  {
   "cell_type": "code",
   "execution_count": 52,
   "id": "b34cb5d1-071e-4b43-ae18-6d98da7b59a1",
   "metadata": {},
   "outputs": [],
   "source": [
    "# Dividindo os dados em treino e teste\n",
    "X_treino, X_teste, y_treino, y_teste = train_test_split(X, y, test_size = 0.2, random_state = 42)"
   ]
  },
  {
   "cell_type": "code",
   "execution_count": 53,
   "id": "4496e934-9266-4243-9a08-23e5f659a810",
   "metadata": {},
   "outputs": [
    {
     "data": {
      "text/html": [
       "<style>#sk-container-id-1 {\n",
       "  /* Definition of color scheme common for light and dark mode */\n",
       "  --sklearn-color-text: black;\n",
       "  --sklearn-color-line: gray;\n",
       "  /* Definition of color scheme for unfitted estimators */\n",
       "  --sklearn-color-unfitted-level-0: #fff5e6;\n",
       "  --sklearn-color-unfitted-level-1: #f6e4d2;\n",
       "  --sklearn-color-unfitted-level-2: #ffe0b3;\n",
       "  --sklearn-color-unfitted-level-3: chocolate;\n",
       "  /* Definition of color scheme for fitted estimators */\n",
       "  --sklearn-color-fitted-level-0: #f0f8ff;\n",
       "  --sklearn-color-fitted-level-1: #d4ebff;\n",
       "  --sklearn-color-fitted-level-2: #b3dbfd;\n",
       "  --sklearn-color-fitted-level-3: cornflowerblue;\n",
       "\n",
       "  /* Specific color for light theme */\n",
       "  --sklearn-color-text-on-default-background: var(--sg-text-color, var(--theme-code-foreground, var(--jp-content-font-color1, black)));\n",
       "  --sklearn-color-background: var(--sg-background-color, var(--theme-background, var(--jp-layout-color0, white)));\n",
       "  --sklearn-color-border-box: var(--sg-text-color, var(--theme-code-foreground, var(--jp-content-font-color1, black)));\n",
       "  --sklearn-color-icon: #696969;\n",
       "\n",
       "  @media (prefers-color-scheme: dark) {\n",
       "    /* Redefinition of color scheme for dark theme */\n",
       "    --sklearn-color-text-on-default-background: var(--sg-text-color, var(--theme-code-foreground, var(--jp-content-font-color1, white)));\n",
       "    --sklearn-color-background: var(--sg-background-color, var(--theme-background, var(--jp-layout-color0, #111)));\n",
       "    --sklearn-color-border-box: var(--sg-text-color, var(--theme-code-foreground, var(--jp-content-font-color1, white)));\n",
       "    --sklearn-color-icon: #878787;\n",
       "  }\n",
       "}\n",
       "\n",
       "#sk-container-id-1 {\n",
       "  color: var(--sklearn-color-text);\n",
       "}\n",
       "\n",
       "#sk-container-id-1 pre {\n",
       "  padding: 0;\n",
       "}\n",
       "\n",
       "#sk-container-id-1 input.sk-hidden--visually {\n",
       "  border: 0;\n",
       "  clip: rect(1px 1px 1px 1px);\n",
       "  clip: rect(1px, 1px, 1px, 1px);\n",
       "  height: 1px;\n",
       "  margin: -1px;\n",
       "  overflow: hidden;\n",
       "  padding: 0;\n",
       "  position: absolute;\n",
       "  width: 1px;\n",
       "}\n",
       "\n",
       "#sk-container-id-1 div.sk-dashed-wrapped {\n",
       "  border: 1px dashed var(--sklearn-color-line);\n",
       "  margin: 0 0.4em 0.5em 0.4em;\n",
       "  box-sizing: border-box;\n",
       "  padding-bottom: 0.4em;\n",
       "  background-color: var(--sklearn-color-background);\n",
       "}\n",
       "\n",
       "#sk-container-id-1 div.sk-container {\n",
       "  /* jupyter's `normalize.less` sets `[hidden] { display: none; }`\n",
       "     but bootstrap.min.css set `[hidden] { display: none !important; }`\n",
       "     so we also need the `!important` here to be able to override the\n",
       "     default hidden behavior on the sphinx rendered scikit-learn.org.\n",
       "     See: https://github.com/scikit-learn/scikit-learn/issues/21755 */\n",
       "  display: inline-block !important;\n",
       "  position: relative;\n",
       "}\n",
       "\n",
       "#sk-container-id-1 div.sk-text-repr-fallback {\n",
       "  display: none;\n",
       "}\n",
       "\n",
       "div.sk-parallel-item,\n",
       "div.sk-serial,\n",
       "div.sk-item {\n",
       "  /* draw centered vertical line to link estimators */\n",
       "  background-image: linear-gradient(var(--sklearn-color-text-on-default-background), var(--sklearn-color-text-on-default-background));\n",
       "  background-size: 2px 100%;\n",
       "  background-repeat: no-repeat;\n",
       "  background-position: center center;\n",
       "}\n",
       "\n",
       "/* Parallel-specific style estimator block */\n",
       "\n",
       "#sk-container-id-1 div.sk-parallel-item::after {\n",
       "  content: \"\";\n",
       "  width: 100%;\n",
       "  border-bottom: 2px solid var(--sklearn-color-text-on-default-background);\n",
       "  flex-grow: 1;\n",
       "}\n",
       "\n",
       "#sk-container-id-1 div.sk-parallel {\n",
       "  display: flex;\n",
       "  align-items: stretch;\n",
       "  justify-content: center;\n",
       "  background-color: var(--sklearn-color-background);\n",
       "  position: relative;\n",
       "}\n",
       "\n",
       "#sk-container-id-1 div.sk-parallel-item {\n",
       "  display: flex;\n",
       "  flex-direction: column;\n",
       "}\n",
       "\n",
       "#sk-container-id-1 div.sk-parallel-item:first-child::after {\n",
       "  align-self: flex-end;\n",
       "  width: 50%;\n",
       "}\n",
       "\n",
       "#sk-container-id-1 div.sk-parallel-item:last-child::after {\n",
       "  align-self: flex-start;\n",
       "  width: 50%;\n",
       "}\n",
       "\n",
       "#sk-container-id-1 div.sk-parallel-item:only-child::after {\n",
       "  width: 0;\n",
       "}\n",
       "\n",
       "/* Serial-specific style estimator block */\n",
       "\n",
       "#sk-container-id-1 div.sk-serial {\n",
       "  display: flex;\n",
       "  flex-direction: column;\n",
       "  align-items: center;\n",
       "  background-color: var(--sklearn-color-background);\n",
       "  padding-right: 1em;\n",
       "  padding-left: 1em;\n",
       "}\n",
       "\n",
       "\n",
       "/* Toggleable style: style used for estimator/Pipeline/ColumnTransformer box that is\n",
       "clickable and can be expanded/collapsed.\n",
       "- Pipeline and ColumnTransformer use this feature and define the default style\n",
       "- Estimators will overwrite some part of the style using the `sk-estimator` class\n",
       "*/\n",
       "\n",
       "/* Pipeline and ColumnTransformer style (default) */\n",
       "\n",
       "#sk-container-id-1 div.sk-toggleable {\n",
       "  /* Default theme specific background. It is overwritten whether we have a\n",
       "  specific estimator or a Pipeline/ColumnTransformer */\n",
       "  background-color: var(--sklearn-color-background);\n",
       "}\n",
       "\n",
       "/* Toggleable label */\n",
       "#sk-container-id-1 label.sk-toggleable__label {\n",
       "  cursor: pointer;\n",
       "  display: block;\n",
       "  width: 100%;\n",
       "  margin-bottom: 0;\n",
       "  padding: 0.5em;\n",
       "  box-sizing: border-box;\n",
       "  text-align: center;\n",
       "}\n",
       "\n",
       "#sk-container-id-1 label.sk-toggleable__label-arrow:before {\n",
       "  /* Arrow on the left of the label */\n",
       "  content: \"▸\";\n",
       "  float: left;\n",
       "  margin-right: 0.25em;\n",
       "  color: var(--sklearn-color-icon);\n",
       "}\n",
       "\n",
       "#sk-container-id-1 label.sk-toggleable__label-arrow:hover:before {\n",
       "  color: var(--sklearn-color-text);\n",
       "}\n",
       "\n",
       "/* Toggleable content - dropdown */\n",
       "\n",
       "#sk-container-id-1 div.sk-toggleable__content {\n",
       "  max-height: 0;\n",
       "  max-width: 0;\n",
       "  overflow: hidden;\n",
       "  text-align: left;\n",
       "  /* unfitted */\n",
       "  background-color: var(--sklearn-color-unfitted-level-0);\n",
       "}\n",
       "\n",
       "#sk-container-id-1 div.sk-toggleable__content.fitted {\n",
       "  /* fitted */\n",
       "  background-color: var(--sklearn-color-fitted-level-0);\n",
       "}\n",
       "\n",
       "#sk-container-id-1 div.sk-toggleable__content pre {\n",
       "  margin: 0.2em;\n",
       "  border-radius: 0.25em;\n",
       "  color: var(--sklearn-color-text);\n",
       "  /* unfitted */\n",
       "  background-color: var(--sklearn-color-unfitted-level-0);\n",
       "}\n",
       "\n",
       "#sk-container-id-1 div.sk-toggleable__content.fitted pre {\n",
       "  /* unfitted */\n",
       "  background-color: var(--sklearn-color-fitted-level-0);\n",
       "}\n",
       "\n",
       "#sk-container-id-1 input.sk-toggleable__control:checked~div.sk-toggleable__content {\n",
       "  /* Expand drop-down */\n",
       "  max-height: 200px;\n",
       "  max-width: 100%;\n",
       "  overflow: auto;\n",
       "}\n",
       "\n",
       "#sk-container-id-1 input.sk-toggleable__control:checked~label.sk-toggleable__label-arrow:before {\n",
       "  content: \"▾\";\n",
       "}\n",
       "\n",
       "/* Pipeline/ColumnTransformer-specific style */\n",
       "\n",
       "#sk-container-id-1 div.sk-label input.sk-toggleable__control:checked~label.sk-toggleable__label {\n",
       "  color: var(--sklearn-color-text);\n",
       "  background-color: var(--sklearn-color-unfitted-level-2);\n",
       "}\n",
       "\n",
       "#sk-container-id-1 div.sk-label.fitted input.sk-toggleable__control:checked~label.sk-toggleable__label {\n",
       "  background-color: var(--sklearn-color-fitted-level-2);\n",
       "}\n",
       "\n",
       "/* Estimator-specific style */\n",
       "\n",
       "/* Colorize estimator box */\n",
       "#sk-container-id-1 div.sk-estimator input.sk-toggleable__control:checked~label.sk-toggleable__label {\n",
       "  /* unfitted */\n",
       "  background-color: var(--sklearn-color-unfitted-level-2);\n",
       "}\n",
       "\n",
       "#sk-container-id-1 div.sk-estimator.fitted input.sk-toggleable__control:checked~label.sk-toggleable__label {\n",
       "  /* fitted */\n",
       "  background-color: var(--sklearn-color-fitted-level-2);\n",
       "}\n",
       "\n",
       "#sk-container-id-1 div.sk-label label.sk-toggleable__label,\n",
       "#sk-container-id-1 div.sk-label label {\n",
       "  /* The background is the default theme color */\n",
       "  color: var(--sklearn-color-text-on-default-background);\n",
       "}\n",
       "\n",
       "/* On hover, darken the color of the background */\n",
       "#sk-container-id-1 div.sk-label:hover label.sk-toggleable__label {\n",
       "  color: var(--sklearn-color-text);\n",
       "  background-color: var(--sklearn-color-unfitted-level-2);\n",
       "}\n",
       "\n",
       "/* Label box, darken color on hover, fitted */\n",
       "#sk-container-id-1 div.sk-label.fitted:hover label.sk-toggleable__label.fitted {\n",
       "  color: var(--sklearn-color-text);\n",
       "  background-color: var(--sklearn-color-fitted-level-2);\n",
       "}\n",
       "\n",
       "/* Estimator label */\n",
       "\n",
       "#sk-container-id-1 div.sk-label label {\n",
       "  font-family: monospace;\n",
       "  font-weight: bold;\n",
       "  display: inline-block;\n",
       "  line-height: 1.2em;\n",
       "}\n",
       "\n",
       "#sk-container-id-1 div.sk-label-container {\n",
       "  text-align: center;\n",
       "}\n",
       "\n",
       "/* Estimator-specific */\n",
       "#sk-container-id-1 div.sk-estimator {\n",
       "  font-family: monospace;\n",
       "  border: 1px dotted var(--sklearn-color-border-box);\n",
       "  border-radius: 0.25em;\n",
       "  box-sizing: border-box;\n",
       "  margin-bottom: 0.5em;\n",
       "  /* unfitted */\n",
       "  background-color: var(--sklearn-color-unfitted-level-0);\n",
       "}\n",
       "\n",
       "#sk-container-id-1 div.sk-estimator.fitted {\n",
       "  /* fitted */\n",
       "  background-color: var(--sklearn-color-fitted-level-0);\n",
       "}\n",
       "\n",
       "/* on hover */\n",
       "#sk-container-id-1 div.sk-estimator:hover {\n",
       "  /* unfitted */\n",
       "  background-color: var(--sklearn-color-unfitted-level-2);\n",
       "}\n",
       "\n",
       "#sk-container-id-1 div.sk-estimator.fitted:hover {\n",
       "  /* fitted */\n",
       "  background-color: var(--sklearn-color-fitted-level-2);\n",
       "}\n",
       "\n",
       "/* Specification for estimator info (e.g. \"i\" and \"?\") */\n",
       "\n",
       "/* Common style for \"i\" and \"?\" */\n",
       "\n",
       ".sk-estimator-doc-link,\n",
       "a:link.sk-estimator-doc-link,\n",
       "a:visited.sk-estimator-doc-link {\n",
       "  float: right;\n",
       "  font-size: smaller;\n",
       "  line-height: 1em;\n",
       "  font-family: monospace;\n",
       "  background-color: var(--sklearn-color-background);\n",
       "  border-radius: 1em;\n",
       "  height: 1em;\n",
       "  width: 1em;\n",
       "  text-decoration: none !important;\n",
       "  margin-left: 1ex;\n",
       "  /* unfitted */\n",
       "  border: var(--sklearn-color-unfitted-level-1) 1pt solid;\n",
       "  color: var(--sklearn-color-unfitted-level-1);\n",
       "}\n",
       "\n",
       ".sk-estimator-doc-link.fitted,\n",
       "a:link.sk-estimator-doc-link.fitted,\n",
       "a:visited.sk-estimator-doc-link.fitted {\n",
       "  /* fitted */\n",
       "  border: var(--sklearn-color-fitted-level-1) 1pt solid;\n",
       "  color: var(--sklearn-color-fitted-level-1);\n",
       "}\n",
       "\n",
       "/* On hover */\n",
       "div.sk-estimator:hover .sk-estimator-doc-link:hover,\n",
       ".sk-estimator-doc-link:hover,\n",
       "div.sk-label-container:hover .sk-estimator-doc-link:hover,\n",
       ".sk-estimator-doc-link:hover {\n",
       "  /* unfitted */\n",
       "  background-color: var(--sklearn-color-unfitted-level-3);\n",
       "  color: var(--sklearn-color-background);\n",
       "  text-decoration: none;\n",
       "}\n",
       "\n",
       "div.sk-estimator.fitted:hover .sk-estimator-doc-link.fitted:hover,\n",
       ".sk-estimator-doc-link.fitted:hover,\n",
       "div.sk-label-container:hover .sk-estimator-doc-link.fitted:hover,\n",
       ".sk-estimator-doc-link.fitted:hover {\n",
       "  /* fitted */\n",
       "  background-color: var(--sklearn-color-fitted-level-3);\n",
       "  color: var(--sklearn-color-background);\n",
       "  text-decoration: none;\n",
       "}\n",
       "\n",
       "/* Span, style for the box shown on hovering the info icon */\n",
       ".sk-estimator-doc-link span {\n",
       "  display: none;\n",
       "  z-index: 9999;\n",
       "  position: relative;\n",
       "  font-weight: normal;\n",
       "  right: .2ex;\n",
       "  padding: .5ex;\n",
       "  margin: .5ex;\n",
       "  width: min-content;\n",
       "  min-width: 20ex;\n",
       "  max-width: 50ex;\n",
       "  color: var(--sklearn-color-text);\n",
       "  box-shadow: 2pt 2pt 4pt #999;\n",
       "  /* unfitted */\n",
       "  background: var(--sklearn-color-unfitted-level-0);\n",
       "  border: .5pt solid var(--sklearn-color-unfitted-level-3);\n",
       "}\n",
       "\n",
       ".sk-estimator-doc-link.fitted span {\n",
       "  /* fitted */\n",
       "  background: var(--sklearn-color-fitted-level-0);\n",
       "  border: var(--sklearn-color-fitted-level-3);\n",
       "}\n",
       "\n",
       ".sk-estimator-doc-link:hover span {\n",
       "  display: block;\n",
       "}\n",
       "\n",
       "/* \"?\"-specific style due to the `<a>` HTML tag */\n",
       "\n",
       "#sk-container-id-1 a.estimator_doc_link {\n",
       "  float: right;\n",
       "  font-size: 1rem;\n",
       "  line-height: 1em;\n",
       "  font-family: monospace;\n",
       "  background-color: var(--sklearn-color-background);\n",
       "  border-radius: 1rem;\n",
       "  height: 1rem;\n",
       "  width: 1rem;\n",
       "  text-decoration: none;\n",
       "  /* unfitted */\n",
       "  color: var(--sklearn-color-unfitted-level-1);\n",
       "  border: var(--sklearn-color-unfitted-level-1) 1pt solid;\n",
       "}\n",
       "\n",
       "#sk-container-id-1 a.estimator_doc_link.fitted {\n",
       "  /* fitted */\n",
       "  border: var(--sklearn-color-fitted-level-1) 1pt solid;\n",
       "  color: var(--sklearn-color-fitted-level-1);\n",
       "}\n",
       "\n",
       "/* On hover */\n",
       "#sk-container-id-1 a.estimator_doc_link:hover {\n",
       "  /* unfitted */\n",
       "  background-color: var(--sklearn-color-unfitted-level-3);\n",
       "  color: var(--sklearn-color-background);\n",
       "  text-decoration: none;\n",
       "}\n",
       "\n",
       "#sk-container-id-1 a.estimator_doc_link.fitted:hover {\n",
       "  /* fitted */\n",
       "  background-color: var(--sklearn-color-fitted-level-3);\n",
       "}\n",
       "</style><div id=\"sk-container-id-1\" class=\"sk-top-container\"><div class=\"sk-text-repr-fallback\"><pre>Pipeline(steps=[(&#x27;preprocessor&#x27;,\n",
       "                 ColumnTransformer(transformers=[(&#x27;num&#x27;, StandardScaler(),\n",
       "                                                  [&#x27;valor_venda_unitario&#x27;,\n",
       "                                                   &#x27;valor_venda_total&#x27;,\n",
       "                                                   &#x27;idade_vendedor&#x27;]),\n",
       "                                                 (&#x27;cat&#x27;,\n",
       "                                                  OneHotEncoder(drop=&#x27;first&#x27;),\n",
       "                                                  [&#x27;status_entrega&#x27;,\n",
       "                                                   &#x27;area_urbana&#x27;,\n",
       "                                                   &#x27;cliente_local&#x27;])])),\n",
       "                (&#x27;regressor&#x27;, LinearRegression())])</pre><b>In a Jupyter environment, please rerun this cell to show the HTML representation or trust the notebook. <br />On GitHub, the HTML representation is unable to render, please try loading this page with nbviewer.org.</b></div><div class=\"sk-container\" hidden><div class=\"sk-item sk-dashed-wrapped\"><div class=\"sk-label-container\"><div class=\"sk-label fitted sk-toggleable\"><input class=\"sk-toggleable__control sk-hidden--visually\" id=\"sk-estimator-id-1\" type=\"checkbox\" ><label for=\"sk-estimator-id-1\" class=\"sk-toggleable__label fitted sk-toggleable__label-arrow fitted\">&nbsp;&nbsp;Pipeline<a class=\"sk-estimator-doc-link fitted\" rel=\"noreferrer\" target=\"_blank\" href=\"https://scikit-learn.org/1.4/modules/generated/sklearn.pipeline.Pipeline.html\">?<span>Documentation for Pipeline</span></a><span class=\"sk-estimator-doc-link fitted\">i<span>Fitted</span></span></label><div class=\"sk-toggleable__content fitted\"><pre>Pipeline(steps=[(&#x27;preprocessor&#x27;,\n",
       "                 ColumnTransformer(transformers=[(&#x27;num&#x27;, StandardScaler(),\n",
       "                                                  [&#x27;valor_venda_unitario&#x27;,\n",
       "                                                   &#x27;valor_venda_total&#x27;,\n",
       "                                                   &#x27;idade_vendedor&#x27;]),\n",
       "                                                 (&#x27;cat&#x27;,\n",
       "                                                  OneHotEncoder(drop=&#x27;first&#x27;),\n",
       "                                                  [&#x27;status_entrega&#x27;,\n",
       "                                                   &#x27;area_urbana&#x27;,\n",
       "                                                   &#x27;cliente_local&#x27;])])),\n",
       "                (&#x27;regressor&#x27;, LinearRegression())])</pre></div> </div></div><div class=\"sk-serial\"><div class=\"sk-item sk-dashed-wrapped\"><div class=\"sk-label-container\"><div class=\"sk-label fitted sk-toggleable\"><input class=\"sk-toggleable__control sk-hidden--visually\" id=\"sk-estimator-id-2\" type=\"checkbox\" ><label for=\"sk-estimator-id-2\" class=\"sk-toggleable__label fitted sk-toggleable__label-arrow fitted\">&nbsp;preprocessor: ColumnTransformer<a class=\"sk-estimator-doc-link fitted\" rel=\"noreferrer\" target=\"_blank\" href=\"https://scikit-learn.org/1.4/modules/generated/sklearn.compose.ColumnTransformer.html\">?<span>Documentation for preprocessor: ColumnTransformer</span></a></label><div class=\"sk-toggleable__content fitted\"><pre>ColumnTransformer(transformers=[(&#x27;num&#x27;, StandardScaler(),\n",
       "                                 [&#x27;valor_venda_unitario&#x27;, &#x27;valor_venda_total&#x27;,\n",
       "                                  &#x27;idade_vendedor&#x27;]),\n",
       "                                (&#x27;cat&#x27;, OneHotEncoder(drop=&#x27;first&#x27;),\n",
       "                                 [&#x27;status_entrega&#x27;, &#x27;area_urbana&#x27;,\n",
       "                                  &#x27;cliente_local&#x27;])])</pre></div> </div></div><div class=\"sk-parallel\"><div class=\"sk-parallel-item\"><div class=\"sk-item\"><div class=\"sk-label-container\"><div class=\"sk-label fitted sk-toggleable\"><input class=\"sk-toggleable__control sk-hidden--visually\" id=\"sk-estimator-id-3\" type=\"checkbox\" ><label for=\"sk-estimator-id-3\" class=\"sk-toggleable__label fitted sk-toggleable__label-arrow fitted\">num</label><div class=\"sk-toggleable__content fitted\"><pre>[&#x27;valor_venda_unitario&#x27;, &#x27;valor_venda_total&#x27;, &#x27;idade_vendedor&#x27;]</pre></div> </div></div><div class=\"sk-serial\"><div class=\"sk-item\"><div class=\"sk-estimator fitted sk-toggleable\"><input class=\"sk-toggleable__control sk-hidden--visually\" id=\"sk-estimator-id-4\" type=\"checkbox\" ><label for=\"sk-estimator-id-4\" class=\"sk-toggleable__label fitted sk-toggleable__label-arrow fitted\">&nbsp;StandardScaler<a class=\"sk-estimator-doc-link fitted\" rel=\"noreferrer\" target=\"_blank\" href=\"https://scikit-learn.org/1.4/modules/generated/sklearn.preprocessing.StandardScaler.html\">?<span>Documentation for StandardScaler</span></a></label><div class=\"sk-toggleable__content fitted\"><pre>StandardScaler()</pre></div> </div></div></div></div></div><div class=\"sk-parallel-item\"><div class=\"sk-item\"><div class=\"sk-label-container\"><div class=\"sk-label fitted sk-toggleable\"><input class=\"sk-toggleable__control sk-hidden--visually\" id=\"sk-estimator-id-5\" type=\"checkbox\" ><label for=\"sk-estimator-id-5\" class=\"sk-toggleable__label fitted sk-toggleable__label-arrow fitted\">cat</label><div class=\"sk-toggleable__content fitted\"><pre>[&#x27;status_entrega&#x27;, &#x27;area_urbana&#x27;, &#x27;cliente_local&#x27;]</pre></div> </div></div><div class=\"sk-serial\"><div class=\"sk-item\"><div class=\"sk-estimator fitted sk-toggleable\"><input class=\"sk-toggleable__control sk-hidden--visually\" id=\"sk-estimator-id-6\" type=\"checkbox\" ><label for=\"sk-estimator-id-6\" class=\"sk-toggleable__label fitted sk-toggleable__label-arrow fitted\">&nbsp;OneHotEncoder<a class=\"sk-estimator-doc-link fitted\" rel=\"noreferrer\" target=\"_blank\" href=\"https://scikit-learn.org/1.4/modules/generated/sklearn.preprocessing.OneHotEncoder.html\">?<span>Documentation for OneHotEncoder</span></a></label><div class=\"sk-toggleable__content fitted\"><pre>OneHotEncoder(drop=&#x27;first&#x27;)</pre></div> </div></div></div></div></div></div></div><div class=\"sk-item\"><div class=\"sk-estimator fitted sk-toggleable\"><input class=\"sk-toggleable__control sk-hidden--visually\" id=\"sk-estimator-id-7\" type=\"checkbox\" ><label for=\"sk-estimator-id-7\" class=\"sk-toggleable__label fitted sk-toggleable__label-arrow fitted\">&nbsp;LinearRegression<a class=\"sk-estimator-doc-link fitted\" rel=\"noreferrer\" target=\"_blank\" href=\"https://scikit-learn.org/1.4/modules/generated/sklearn.linear_model.LinearRegression.html\">?<span>Documentation for LinearRegression</span></a></label><div class=\"sk-toggleable__content fitted\"><pre>LinearRegression()</pre></div> </div></div></div></div></div></div>"
      ],
      "text/plain": [
       "Pipeline(steps=[('preprocessor',\n",
       "                 ColumnTransformer(transformers=[('num', StandardScaler(),\n",
       "                                                  ['valor_venda_unitario',\n",
       "                                                   'valor_venda_total',\n",
       "                                                   'idade_vendedor']),\n",
       "                                                 ('cat',\n",
       "                                                  OneHotEncoder(drop='first'),\n",
       "                                                  ['status_entrega',\n",
       "                                                   'area_urbana',\n",
       "                                                   'cliente_local'])])),\n",
       "                ('regressor', LinearRegression())])"
      ]
     },
     "execution_count": 53,
     "metadata": {},
     "output_type": "execute_result"
    }
   ],
   "source": [
    "# Fit somente com dados de treino\n",
    "modelo_v1.fit(X_treino, y_treino)"
   ]
  },
  {
   "cell_type": "code",
   "execution_count": 55,
   "id": "8847dc13-7795-43b0-a2b9-7161be94e508",
   "metadata": {},
   "outputs": [],
   "source": [
    "# Usamos predict nos dados de teste\n",
    "y_pred = modelo_v1.predict(X_teste)"
   ]
  },
  {
   "cell_type": "code",
   "execution_count": 58,
   "id": "68c88d4b-c38e-4a2d-b5c7-f66e4876008a",
   "metadata": {},
   "outputs": [
    {
     "name": "stderr",
     "output_type": "stream",
     "text": [
      "C:\\Users\\coswe\\anaconda3\\Lib\\site-packages\\sklearn\\metrics\\_regression.py:483: FutureWarning: 'squared' is deprecated in version 1.4 and will be removed in 1.6. To calculate the root mean squared error, use the function'root_mean_squared_error'.\n",
      "  warnings.warn(\n"
     ]
    }
   ],
   "source": [
    "# Avaliando o modelo\n",
    "rmse_v1 = mean_squared_error(y_teste, y_pred, squared = False)\n",
    "r2_v1 = r2_score(y_teste, y_pred)"
   ]
  },
  {
   "cell_type": "code",
   "execution_count": 59,
   "id": "16befeb4-b516-4839-8583-aec141c6bd61",
   "metadata": {},
   "outputs": [
    {
     "name": "stdout",
     "output_type": "stream",
     "text": [
      "5.099017184556864\n"
     ]
    }
   ],
   "source": [
    "print(rmse_v1)"
   ]
  },
  {
   "cell_type": "code",
   "execution_count": 60,
   "id": "9e883444-f3a4-451a-a6c5-f0a220acb79d",
   "metadata": {},
   "outputs": [
    {
     "name": "stdout",
     "output_type": "stream",
     "text": [
      "0.4218192280383193\n"
     ]
    }
   ],
   "source": [
    "print(r2_v1)"
   ]
  },
  {
   "cell_type": "markdown",
   "id": "770c5c30-e08d-45ad-92c7-e22c7429c0ad",
   "metadata": {},
   "source": [
    "## Estratégia 2 de tratamento de Variáveis Categóricas - Ordinal Label Enconding\n",
    "- Ideal para variáveis qualitativas ordinais."
   ]
  },
  {
   "cell_type": "markdown",
   "id": "e76be3f5-2aa8-4a56-adc9-421848b966e9",
   "metadata": {},
   "source": [
    "![DSA](ordinal-label-encoding.png)"
   ]
  },
  {
   "cell_type": "code",
   "execution_count": 61,
   "id": "4585cec9-6347-46f7-a14f-5a02beda756e",
   "metadata": {},
   "outputs": [],
   "source": [
    "# Separa as variáveis categóricas (nominais e ordinais) e numéricas, pois terão processamento diferentes\n",
    "categorical_features_nominal = ['area_urbana', 'cliente_local']\n",
    "categorical_features_ordinal = ['status_entrega']\n",
    "numerical_features = ['valor_venda_unitario', 'valor_venda_total', 'idade_vendedor']"
   ]
  },
  {
   "cell_type": "code",
   "execution_count": 62,
   "id": "76305a9b-fd0e-4829-bfbf-294f68f0bc18",
   "metadata": {},
   "outputs": [],
   "source": [
    "# transformador para as variáveis categóricas ordinal\n",
    "categorical_transformer_ordinal = OrdinalEncoder()"
   ]
  },
  {
   "cell_type": "code",
   "execution_count": 72,
   "id": "7ae017c9-6bb5-4581-a2f0-b103f6b66bf7",
   "metadata": {},
   "outputs": [],
   "source": [
    "# Transformador para as variáveis categóricas nominais 'drop = first' -> ele exclui uma coluna pra evita uma alta colinariedade\n",
    "categorical_transformer_nominal = OneHotEncoder(drop = 'first')"
   ]
  },
  {
   "cell_type": "code",
   "execution_count": 73,
   "id": "dc56e70a-f4c7-4819-8a8a-e9b1ac4a5df3",
   "metadata": {},
   "outputs": [],
   "source": [
    "# Cria o transformador para variáveis numéricas\n",
    "numerical_transforme = StandardScaler()"
   ]
  },
  {
   "cell_type": "code",
   "execution_count": 74,
   "id": "ee527ee3-3561-4b8c-81de-7474b35218b1",
   "metadata": {},
   "outputs": [],
   "source": [
    "# Combinando os transformadores\n",
    "preprocessor_v2 = ColumnTransformer(\n",
    "    transformers=[\n",
    "        ('num', numerical_transforme, numerical_features),\n",
    "        ('cat_nominal', categorical_transformer_nominal, categorical_features_nominal),\n",
    "        ('cat_ordial', categorical_transformer_ordinal, categorical_features_ordinal)\n",
    "    ]\n",
    ")"
   ]
  },
  {
   "cell_type": "code",
   "execution_count": 75,
   "id": "1e11b3c4-42bd-42a5-84a4-3212c027fdca",
   "metadata": {},
   "outputs": [],
   "source": [
    "# Pipeline\n",
    "modelo_v2 = Pipeline(steps = [('preprocessor', preprocessor_v2), ('regressor', LinearRegression())])"
   ]
  },
  {
   "cell_type": "markdown",
   "id": "b63b6222-1c29-449f-981c-c049b6b0bf89",
   "metadata": {},
   "source": [
    "## Impacto da Estratégia 2 na Modelagem Preditiva"
   ]
  },
  {
   "cell_type": "code",
   "execution_count": 76,
   "id": "deb2032f-6f5e-400a-a3e3-e284dfc67f22",
   "metadata": {},
   "outputs": [
    {
     "data": {
      "text/html": [
       "<style>#sk-container-id-2 {\n",
       "  /* Definition of color scheme common for light and dark mode */\n",
       "  --sklearn-color-text: black;\n",
       "  --sklearn-color-line: gray;\n",
       "  /* Definition of color scheme for unfitted estimators */\n",
       "  --sklearn-color-unfitted-level-0: #fff5e6;\n",
       "  --sklearn-color-unfitted-level-1: #f6e4d2;\n",
       "  --sklearn-color-unfitted-level-2: #ffe0b3;\n",
       "  --sklearn-color-unfitted-level-3: chocolate;\n",
       "  /* Definition of color scheme for fitted estimators */\n",
       "  --sklearn-color-fitted-level-0: #f0f8ff;\n",
       "  --sklearn-color-fitted-level-1: #d4ebff;\n",
       "  --sklearn-color-fitted-level-2: #b3dbfd;\n",
       "  --sklearn-color-fitted-level-3: cornflowerblue;\n",
       "\n",
       "  /* Specific color for light theme */\n",
       "  --sklearn-color-text-on-default-background: var(--sg-text-color, var(--theme-code-foreground, var(--jp-content-font-color1, black)));\n",
       "  --sklearn-color-background: var(--sg-background-color, var(--theme-background, var(--jp-layout-color0, white)));\n",
       "  --sklearn-color-border-box: var(--sg-text-color, var(--theme-code-foreground, var(--jp-content-font-color1, black)));\n",
       "  --sklearn-color-icon: #696969;\n",
       "\n",
       "  @media (prefers-color-scheme: dark) {\n",
       "    /* Redefinition of color scheme for dark theme */\n",
       "    --sklearn-color-text-on-default-background: var(--sg-text-color, var(--theme-code-foreground, var(--jp-content-font-color1, white)));\n",
       "    --sklearn-color-background: var(--sg-background-color, var(--theme-background, var(--jp-layout-color0, #111)));\n",
       "    --sklearn-color-border-box: var(--sg-text-color, var(--theme-code-foreground, var(--jp-content-font-color1, white)));\n",
       "    --sklearn-color-icon: #878787;\n",
       "  }\n",
       "}\n",
       "\n",
       "#sk-container-id-2 {\n",
       "  color: var(--sklearn-color-text);\n",
       "}\n",
       "\n",
       "#sk-container-id-2 pre {\n",
       "  padding: 0;\n",
       "}\n",
       "\n",
       "#sk-container-id-2 input.sk-hidden--visually {\n",
       "  border: 0;\n",
       "  clip: rect(1px 1px 1px 1px);\n",
       "  clip: rect(1px, 1px, 1px, 1px);\n",
       "  height: 1px;\n",
       "  margin: -1px;\n",
       "  overflow: hidden;\n",
       "  padding: 0;\n",
       "  position: absolute;\n",
       "  width: 1px;\n",
       "}\n",
       "\n",
       "#sk-container-id-2 div.sk-dashed-wrapped {\n",
       "  border: 1px dashed var(--sklearn-color-line);\n",
       "  margin: 0 0.4em 0.5em 0.4em;\n",
       "  box-sizing: border-box;\n",
       "  padding-bottom: 0.4em;\n",
       "  background-color: var(--sklearn-color-background);\n",
       "}\n",
       "\n",
       "#sk-container-id-2 div.sk-container {\n",
       "  /* jupyter's `normalize.less` sets `[hidden] { display: none; }`\n",
       "     but bootstrap.min.css set `[hidden] { display: none !important; }`\n",
       "     so we also need the `!important` here to be able to override the\n",
       "     default hidden behavior on the sphinx rendered scikit-learn.org.\n",
       "     See: https://github.com/scikit-learn/scikit-learn/issues/21755 */\n",
       "  display: inline-block !important;\n",
       "  position: relative;\n",
       "}\n",
       "\n",
       "#sk-container-id-2 div.sk-text-repr-fallback {\n",
       "  display: none;\n",
       "}\n",
       "\n",
       "div.sk-parallel-item,\n",
       "div.sk-serial,\n",
       "div.sk-item {\n",
       "  /* draw centered vertical line to link estimators */\n",
       "  background-image: linear-gradient(var(--sklearn-color-text-on-default-background), var(--sklearn-color-text-on-default-background));\n",
       "  background-size: 2px 100%;\n",
       "  background-repeat: no-repeat;\n",
       "  background-position: center center;\n",
       "}\n",
       "\n",
       "/* Parallel-specific style estimator block */\n",
       "\n",
       "#sk-container-id-2 div.sk-parallel-item::after {\n",
       "  content: \"\";\n",
       "  width: 100%;\n",
       "  border-bottom: 2px solid var(--sklearn-color-text-on-default-background);\n",
       "  flex-grow: 1;\n",
       "}\n",
       "\n",
       "#sk-container-id-2 div.sk-parallel {\n",
       "  display: flex;\n",
       "  align-items: stretch;\n",
       "  justify-content: center;\n",
       "  background-color: var(--sklearn-color-background);\n",
       "  position: relative;\n",
       "}\n",
       "\n",
       "#sk-container-id-2 div.sk-parallel-item {\n",
       "  display: flex;\n",
       "  flex-direction: column;\n",
       "}\n",
       "\n",
       "#sk-container-id-2 div.sk-parallel-item:first-child::after {\n",
       "  align-self: flex-end;\n",
       "  width: 50%;\n",
       "}\n",
       "\n",
       "#sk-container-id-2 div.sk-parallel-item:last-child::after {\n",
       "  align-self: flex-start;\n",
       "  width: 50%;\n",
       "}\n",
       "\n",
       "#sk-container-id-2 div.sk-parallel-item:only-child::after {\n",
       "  width: 0;\n",
       "}\n",
       "\n",
       "/* Serial-specific style estimator block */\n",
       "\n",
       "#sk-container-id-2 div.sk-serial {\n",
       "  display: flex;\n",
       "  flex-direction: column;\n",
       "  align-items: center;\n",
       "  background-color: var(--sklearn-color-background);\n",
       "  padding-right: 1em;\n",
       "  padding-left: 1em;\n",
       "}\n",
       "\n",
       "\n",
       "/* Toggleable style: style used for estimator/Pipeline/ColumnTransformer box that is\n",
       "clickable and can be expanded/collapsed.\n",
       "- Pipeline and ColumnTransformer use this feature and define the default style\n",
       "- Estimators will overwrite some part of the style using the `sk-estimator` class\n",
       "*/\n",
       "\n",
       "/* Pipeline and ColumnTransformer style (default) */\n",
       "\n",
       "#sk-container-id-2 div.sk-toggleable {\n",
       "  /* Default theme specific background. It is overwritten whether we have a\n",
       "  specific estimator or a Pipeline/ColumnTransformer */\n",
       "  background-color: var(--sklearn-color-background);\n",
       "}\n",
       "\n",
       "/* Toggleable label */\n",
       "#sk-container-id-2 label.sk-toggleable__label {\n",
       "  cursor: pointer;\n",
       "  display: block;\n",
       "  width: 100%;\n",
       "  margin-bottom: 0;\n",
       "  padding: 0.5em;\n",
       "  box-sizing: border-box;\n",
       "  text-align: center;\n",
       "}\n",
       "\n",
       "#sk-container-id-2 label.sk-toggleable__label-arrow:before {\n",
       "  /* Arrow on the left of the label */\n",
       "  content: \"▸\";\n",
       "  float: left;\n",
       "  margin-right: 0.25em;\n",
       "  color: var(--sklearn-color-icon);\n",
       "}\n",
       "\n",
       "#sk-container-id-2 label.sk-toggleable__label-arrow:hover:before {\n",
       "  color: var(--sklearn-color-text);\n",
       "}\n",
       "\n",
       "/* Toggleable content - dropdown */\n",
       "\n",
       "#sk-container-id-2 div.sk-toggleable__content {\n",
       "  max-height: 0;\n",
       "  max-width: 0;\n",
       "  overflow: hidden;\n",
       "  text-align: left;\n",
       "  /* unfitted */\n",
       "  background-color: var(--sklearn-color-unfitted-level-0);\n",
       "}\n",
       "\n",
       "#sk-container-id-2 div.sk-toggleable__content.fitted {\n",
       "  /* fitted */\n",
       "  background-color: var(--sklearn-color-fitted-level-0);\n",
       "}\n",
       "\n",
       "#sk-container-id-2 div.sk-toggleable__content pre {\n",
       "  margin: 0.2em;\n",
       "  border-radius: 0.25em;\n",
       "  color: var(--sklearn-color-text);\n",
       "  /* unfitted */\n",
       "  background-color: var(--sklearn-color-unfitted-level-0);\n",
       "}\n",
       "\n",
       "#sk-container-id-2 div.sk-toggleable__content.fitted pre {\n",
       "  /* unfitted */\n",
       "  background-color: var(--sklearn-color-fitted-level-0);\n",
       "}\n",
       "\n",
       "#sk-container-id-2 input.sk-toggleable__control:checked~div.sk-toggleable__content {\n",
       "  /* Expand drop-down */\n",
       "  max-height: 200px;\n",
       "  max-width: 100%;\n",
       "  overflow: auto;\n",
       "}\n",
       "\n",
       "#sk-container-id-2 input.sk-toggleable__control:checked~label.sk-toggleable__label-arrow:before {\n",
       "  content: \"▾\";\n",
       "}\n",
       "\n",
       "/* Pipeline/ColumnTransformer-specific style */\n",
       "\n",
       "#sk-container-id-2 div.sk-label input.sk-toggleable__control:checked~label.sk-toggleable__label {\n",
       "  color: var(--sklearn-color-text);\n",
       "  background-color: var(--sklearn-color-unfitted-level-2);\n",
       "}\n",
       "\n",
       "#sk-container-id-2 div.sk-label.fitted input.sk-toggleable__control:checked~label.sk-toggleable__label {\n",
       "  background-color: var(--sklearn-color-fitted-level-2);\n",
       "}\n",
       "\n",
       "/* Estimator-specific style */\n",
       "\n",
       "/* Colorize estimator box */\n",
       "#sk-container-id-2 div.sk-estimator input.sk-toggleable__control:checked~label.sk-toggleable__label {\n",
       "  /* unfitted */\n",
       "  background-color: var(--sklearn-color-unfitted-level-2);\n",
       "}\n",
       "\n",
       "#sk-container-id-2 div.sk-estimator.fitted input.sk-toggleable__control:checked~label.sk-toggleable__label {\n",
       "  /* fitted */\n",
       "  background-color: var(--sklearn-color-fitted-level-2);\n",
       "}\n",
       "\n",
       "#sk-container-id-2 div.sk-label label.sk-toggleable__label,\n",
       "#sk-container-id-2 div.sk-label label {\n",
       "  /* The background is the default theme color */\n",
       "  color: var(--sklearn-color-text-on-default-background);\n",
       "}\n",
       "\n",
       "/* On hover, darken the color of the background */\n",
       "#sk-container-id-2 div.sk-label:hover label.sk-toggleable__label {\n",
       "  color: var(--sklearn-color-text);\n",
       "  background-color: var(--sklearn-color-unfitted-level-2);\n",
       "}\n",
       "\n",
       "/* Label box, darken color on hover, fitted */\n",
       "#sk-container-id-2 div.sk-label.fitted:hover label.sk-toggleable__label.fitted {\n",
       "  color: var(--sklearn-color-text);\n",
       "  background-color: var(--sklearn-color-fitted-level-2);\n",
       "}\n",
       "\n",
       "/* Estimator label */\n",
       "\n",
       "#sk-container-id-2 div.sk-label label {\n",
       "  font-family: monospace;\n",
       "  font-weight: bold;\n",
       "  display: inline-block;\n",
       "  line-height: 1.2em;\n",
       "}\n",
       "\n",
       "#sk-container-id-2 div.sk-label-container {\n",
       "  text-align: center;\n",
       "}\n",
       "\n",
       "/* Estimator-specific */\n",
       "#sk-container-id-2 div.sk-estimator {\n",
       "  font-family: monospace;\n",
       "  border: 1px dotted var(--sklearn-color-border-box);\n",
       "  border-radius: 0.25em;\n",
       "  box-sizing: border-box;\n",
       "  margin-bottom: 0.5em;\n",
       "  /* unfitted */\n",
       "  background-color: var(--sklearn-color-unfitted-level-0);\n",
       "}\n",
       "\n",
       "#sk-container-id-2 div.sk-estimator.fitted {\n",
       "  /* fitted */\n",
       "  background-color: var(--sklearn-color-fitted-level-0);\n",
       "}\n",
       "\n",
       "/* on hover */\n",
       "#sk-container-id-2 div.sk-estimator:hover {\n",
       "  /* unfitted */\n",
       "  background-color: var(--sklearn-color-unfitted-level-2);\n",
       "}\n",
       "\n",
       "#sk-container-id-2 div.sk-estimator.fitted:hover {\n",
       "  /* fitted */\n",
       "  background-color: var(--sklearn-color-fitted-level-2);\n",
       "}\n",
       "\n",
       "/* Specification for estimator info (e.g. \"i\" and \"?\") */\n",
       "\n",
       "/* Common style for \"i\" and \"?\" */\n",
       "\n",
       ".sk-estimator-doc-link,\n",
       "a:link.sk-estimator-doc-link,\n",
       "a:visited.sk-estimator-doc-link {\n",
       "  float: right;\n",
       "  font-size: smaller;\n",
       "  line-height: 1em;\n",
       "  font-family: monospace;\n",
       "  background-color: var(--sklearn-color-background);\n",
       "  border-radius: 1em;\n",
       "  height: 1em;\n",
       "  width: 1em;\n",
       "  text-decoration: none !important;\n",
       "  margin-left: 1ex;\n",
       "  /* unfitted */\n",
       "  border: var(--sklearn-color-unfitted-level-1) 1pt solid;\n",
       "  color: var(--sklearn-color-unfitted-level-1);\n",
       "}\n",
       "\n",
       ".sk-estimator-doc-link.fitted,\n",
       "a:link.sk-estimator-doc-link.fitted,\n",
       "a:visited.sk-estimator-doc-link.fitted {\n",
       "  /* fitted */\n",
       "  border: var(--sklearn-color-fitted-level-1) 1pt solid;\n",
       "  color: var(--sklearn-color-fitted-level-1);\n",
       "}\n",
       "\n",
       "/* On hover */\n",
       "div.sk-estimator:hover .sk-estimator-doc-link:hover,\n",
       ".sk-estimator-doc-link:hover,\n",
       "div.sk-label-container:hover .sk-estimator-doc-link:hover,\n",
       ".sk-estimator-doc-link:hover {\n",
       "  /* unfitted */\n",
       "  background-color: var(--sklearn-color-unfitted-level-3);\n",
       "  color: var(--sklearn-color-background);\n",
       "  text-decoration: none;\n",
       "}\n",
       "\n",
       "div.sk-estimator.fitted:hover .sk-estimator-doc-link.fitted:hover,\n",
       ".sk-estimator-doc-link.fitted:hover,\n",
       "div.sk-label-container:hover .sk-estimator-doc-link.fitted:hover,\n",
       ".sk-estimator-doc-link.fitted:hover {\n",
       "  /* fitted */\n",
       "  background-color: var(--sklearn-color-fitted-level-3);\n",
       "  color: var(--sklearn-color-background);\n",
       "  text-decoration: none;\n",
       "}\n",
       "\n",
       "/* Span, style for the box shown on hovering the info icon */\n",
       ".sk-estimator-doc-link span {\n",
       "  display: none;\n",
       "  z-index: 9999;\n",
       "  position: relative;\n",
       "  font-weight: normal;\n",
       "  right: .2ex;\n",
       "  padding: .5ex;\n",
       "  margin: .5ex;\n",
       "  width: min-content;\n",
       "  min-width: 20ex;\n",
       "  max-width: 50ex;\n",
       "  color: var(--sklearn-color-text);\n",
       "  box-shadow: 2pt 2pt 4pt #999;\n",
       "  /* unfitted */\n",
       "  background: var(--sklearn-color-unfitted-level-0);\n",
       "  border: .5pt solid var(--sklearn-color-unfitted-level-3);\n",
       "}\n",
       "\n",
       ".sk-estimator-doc-link.fitted span {\n",
       "  /* fitted */\n",
       "  background: var(--sklearn-color-fitted-level-0);\n",
       "  border: var(--sklearn-color-fitted-level-3);\n",
       "}\n",
       "\n",
       ".sk-estimator-doc-link:hover span {\n",
       "  display: block;\n",
       "}\n",
       "\n",
       "/* \"?\"-specific style due to the `<a>` HTML tag */\n",
       "\n",
       "#sk-container-id-2 a.estimator_doc_link {\n",
       "  float: right;\n",
       "  font-size: 1rem;\n",
       "  line-height: 1em;\n",
       "  font-family: monospace;\n",
       "  background-color: var(--sklearn-color-background);\n",
       "  border-radius: 1rem;\n",
       "  height: 1rem;\n",
       "  width: 1rem;\n",
       "  text-decoration: none;\n",
       "  /* unfitted */\n",
       "  color: var(--sklearn-color-unfitted-level-1);\n",
       "  border: var(--sklearn-color-unfitted-level-1) 1pt solid;\n",
       "}\n",
       "\n",
       "#sk-container-id-2 a.estimator_doc_link.fitted {\n",
       "  /* fitted */\n",
       "  border: var(--sklearn-color-fitted-level-1) 1pt solid;\n",
       "  color: var(--sklearn-color-fitted-level-1);\n",
       "}\n",
       "\n",
       "/* On hover */\n",
       "#sk-container-id-2 a.estimator_doc_link:hover {\n",
       "  /* unfitted */\n",
       "  background-color: var(--sklearn-color-unfitted-level-3);\n",
       "  color: var(--sklearn-color-background);\n",
       "  text-decoration: none;\n",
       "}\n",
       "\n",
       "#sk-container-id-2 a.estimator_doc_link.fitted:hover {\n",
       "  /* fitted */\n",
       "  background-color: var(--sklearn-color-fitted-level-3);\n",
       "}\n",
       "</style><div id=\"sk-container-id-2\" class=\"sk-top-container\"><div class=\"sk-text-repr-fallback\"><pre>Pipeline(steps=[(&#x27;preprocessor&#x27;,\n",
       "                 ColumnTransformer(transformers=[(&#x27;num&#x27;, StandardScaler(),\n",
       "                                                  [&#x27;valor_venda_unitario&#x27;,\n",
       "                                                   &#x27;valor_venda_total&#x27;,\n",
       "                                                   &#x27;idade_vendedor&#x27;]),\n",
       "                                                 (&#x27;cat_nominal&#x27;,\n",
       "                                                  OneHotEncoder(drop=&#x27;first&#x27;),\n",
       "                                                  [&#x27;area_urbana&#x27;,\n",
       "                                                   &#x27;cliente_local&#x27;]),\n",
       "                                                 (&#x27;cat_ordial&#x27;,\n",
       "                                                  OrdinalEncoder(),\n",
       "                                                  [&#x27;status_entrega&#x27;])])),\n",
       "                (&#x27;regressor&#x27;, LinearRegression())])</pre><b>In a Jupyter environment, please rerun this cell to show the HTML representation or trust the notebook. <br />On GitHub, the HTML representation is unable to render, please try loading this page with nbviewer.org.</b></div><div class=\"sk-container\" hidden><div class=\"sk-item sk-dashed-wrapped\"><div class=\"sk-label-container\"><div class=\"sk-label fitted sk-toggleable\"><input class=\"sk-toggleable__control sk-hidden--visually\" id=\"sk-estimator-id-8\" type=\"checkbox\" ><label for=\"sk-estimator-id-8\" class=\"sk-toggleable__label fitted sk-toggleable__label-arrow fitted\">&nbsp;&nbsp;Pipeline<a class=\"sk-estimator-doc-link fitted\" rel=\"noreferrer\" target=\"_blank\" href=\"https://scikit-learn.org/1.4/modules/generated/sklearn.pipeline.Pipeline.html\">?<span>Documentation for Pipeline</span></a><span class=\"sk-estimator-doc-link fitted\">i<span>Fitted</span></span></label><div class=\"sk-toggleable__content fitted\"><pre>Pipeline(steps=[(&#x27;preprocessor&#x27;,\n",
       "                 ColumnTransformer(transformers=[(&#x27;num&#x27;, StandardScaler(),\n",
       "                                                  [&#x27;valor_venda_unitario&#x27;,\n",
       "                                                   &#x27;valor_venda_total&#x27;,\n",
       "                                                   &#x27;idade_vendedor&#x27;]),\n",
       "                                                 (&#x27;cat_nominal&#x27;,\n",
       "                                                  OneHotEncoder(drop=&#x27;first&#x27;),\n",
       "                                                  [&#x27;area_urbana&#x27;,\n",
       "                                                   &#x27;cliente_local&#x27;]),\n",
       "                                                 (&#x27;cat_ordial&#x27;,\n",
       "                                                  OrdinalEncoder(),\n",
       "                                                  [&#x27;status_entrega&#x27;])])),\n",
       "                (&#x27;regressor&#x27;, LinearRegression())])</pre></div> </div></div><div class=\"sk-serial\"><div class=\"sk-item sk-dashed-wrapped\"><div class=\"sk-label-container\"><div class=\"sk-label fitted sk-toggleable\"><input class=\"sk-toggleable__control sk-hidden--visually\" id=\"sk-estimator-id-9\" type=\"checkbox\" ><label for=\"sk-estimator-id-9\" class=\"sk-toggleable__label fitted sk-toggleable__label-arrow fitted\">&nbsp;preprocessor: ColumnTransformer<a class=\"sk-estimator-doc-link fitted\" rel=\"noreferrer\" target=\"_blank\" href=\"https://scikit-learn.org/1.4/modules/generated/sklearn.compose.ColumnTransformer.html\">?<span>Documentation for preprocessor: ColumnTransformer</span></a></label><div class=\"sk-toggleable__content fitted\"><pre>ColumnTransformer(transformers=[(&#x27;num&#x27;, StandardScaler(),\n",
       "                                 [&#x27;valor_venda_unitario&#x27;, &#x27;valor_venda_total&#x27;,\n",
       "                                  &#x27;idade_vendedor&#x27;]),\n",
       "                                (&#x27;cat_nominal&#x27;, OneHotEncoder(drop=&#x27;first&#x27;),\n",
       "                                 [&#x27;area_urbana&#x27;, &#x27;cliente_local&#x27;]),\n",
       "                                (&#x27;cat_ordial&#x27;, OrdinalEncoder(),\n",
       "                                 [&#x27;status_entrega&#x27;])])</pre></div> </div></div><div class=\"sk-parallel\"><div class=\"sk-parallel-item\"><div class=\"sk-item\"><div class=\"sk-label-container\"><div class=\"sk-label fitted sk-toggleable\"><input class=\"sk-toggleable__control sk-hidden--visually\" id=\"sk-estimator-id-10\" type=\"checkbox\" ><label for=\"sk-estimator-id-10\" class=\"sk-toggleable__label fitted sk-toggleable__label-arrow fitted\">num</label><div class=\"sk-toggleable__content fitted\"><pre>[&#x27;valor_venda_unitario&#x27;, &#x27;valor_venda_total&#x27;, &#x27;idade_vendedor&#x27;]</pre></div> </div></div><div class=\"sk-serial\"><div class=\"sk-item\"><div class=\"sk-estimator fitted sk-toggleable\"><input class=\"sk-toggleable__control sk-hidden--visually\" id=\"sk-estimator-id-11\" type=\"checkbox\" ><label for=\"sk-estimator-id-11\" class=\"sk-toggleable__label fitted sk-toggleable__label-arrow fitted\">&nbsp;StandardScaler<a class=\"sk-estimator-doc-link fitted\" rel=\"noreferrer\" target=\"_blank\" href=\"https://scikit-learn.org/1.4/modules/generated/sklearn.preprocessing.StandardScaler.html\">?<span>Documentation for StandardScaler</span></a></label><div class=\"sk-toggleable__content fitted\"><pre>StandardScaler()</pre></div> </div></div></div></div></div><div class=\"sk-parallel-item\"><div class=\"sk-item\"><div class=\"sk-label-container\"><div class=\"sk-label fitted sk-toggleable\"><input class=\"sk-toggleable__control sk-hidden--visually\" id=\"sk-estimator-id-12\" type=\"checkbox\" ><label for=\"sk-estimator-id-12\" class=\"sk-toggleable__label fitted sk-toggleable__label-arrow fitted\">cat_nominal</label><div class=\"sk-toggleable__content fitted\"><pre>[&#x27;area_urbana&#x27;, &#x27;cliente_local&#x27;]</pre></div> </div></div><div class=\"sk-serial\"><div class=\"sk-item\"><div class=\"sk-estimator fitted sk-toggleable\"><input class=\"sk-toggleable__control sk-hidden--visually\" id=\"sk-estimator-id-13\" type=\"checkbox\" ><label for=\"sk-estimator-id-13\" class=\"sk-toggleable__label fitted sk-toggleable__label-arrow fitted\">&nbsp;OneHotEncoder<a class=\"sk-estimator-doc-link fitted\" rel=\"noreferrer\" target=\"_blank\" href=\"https://scikit-learn.org/1.4/modules/generated/sklearn.preprocessing.OneHotEncoder.html\">?<span>Documentation for OneHotEncoder</span></a></label><div class=\"sk-toggleable__content fitted\"><pre>OneHotEncoder(drop=&#x27;first&#x27;)</pre></div> </div></div></div></div></div><div class=\"sk-parallel-item\"><div class=\"sk-item\"><div class=\"sk-label-container\"><div class=\"sk-label fitted sk-toggleable\"><input class=\"sk-toggleable__control sk-hidden--visually\" id=\"sk-estimator-id-14\" type=\"checkbox\" ><label for=\"sk-estimator-id-14\" class=\"sk-toggleable__label fitted sk-toggleable__label-arrow fitted\">cat_ordial</label><div class=\"sk-toggleable__content fitted\"><pre>[&#x27;status_entrega&#x27;]</pre></div> </div></div><div class=\"sk-serial\"><div class=\"sk-item\"><div class=\"sk-estimator fitted sk-toggleable\"><input class=\"sk-toggleable__control sk-hidden--visually\" id=\"sk-estimator-id-15\" type=\"checkbox\" ><label for=\"sk-estimator-id-15\" class=\"sk-toggleable__label fitted sk-toggleable__label-arrow fitted\">&nbsp;OrdinalEncoder<a class=\"sk-estimator-doc-link fitted\" rel=\"noreferrer\" target=\"_blank\" href=\"https://scikit-learn.org/1.4/modules/generated/sklearn.preprocessing.OrdinalEncoder.html\">?<span>Documentation for OrdinalEncoder</span></a></label><div class=\"sk-toggleable__content fitted\"><pre>OrdinalEncoder()</pre></div> </div></div></div></div></div></div></div><div class=\"sk-item\"><div class=\"sk-estimator fitted sk-toggleable\"><input class=\"sk-toggleable__control sk-hidden--visually\" id=\"sk-estimator-id-16\" type=\"checkbox\" ><label for=\"sk-estimator-id-16\" class=\"sk-toggleable__label fitted sk-toggleable__label-arrow fitted\">&nbsp;LinearRegression<a class=\"sk-estimator-doc-link fitted\" rel=\"noreferrer\" target=\"_blank\" href=\"https://scikit-learn.org/1.4/modules/generated/sklearn.linear_model.LinearRegression.html\">?<span>Documentation for LinearRegression</span></a></label><div class=\"sk-toggleable__content fitted\"><pre>LinearRegression()</pre></div> </div></div></div></div></div></div>"
      ],
      "text/plain": [
       "Pipeline(steps=[('preprocessor',\n",
       "                 ColumnTransformer(transformers=[('num', StandardScaler(),\n",
       "                                                  ['valor_venda_unitario',\n",
       "                                                   'valor_venda_total',\n",
       "                                                   'idade_vendedor']),\n",
       "                                                 ('cat_nominal',\n",
       "                                                  OneHotEncoder(drop='first'),\n",
       "                                                  ['area_urbana',\n",
       "                                                   'cliente_local']),\n",
       "                                                 ('cat_ordial',\n",
       "                                                  OrdinalEncoder(),\n",
       "                                                  ['status_entrega'])])),\n",
       "                ('regressor', LinearRegression())])"
      ]
     },
     "execution_count": 76,
     "metadata": {},
     "output_type": "execute_result"
    }
   ],
   "source": [
    "# Fit do modelo com dados de treino\n",
    "modelo_v2.fit(X_treino, y_treino)"
   ]
  },
  {
   "cell_type": "code",
   "execution_count": 77,
   "id": "e8c4c3e7-fc19-4399-bb97-d459e36300e2",
   "metadata": {},
   "outputs": [],
   "source": [
    "# Previsões com dados de teste\n",
    "y_pred_v2 = modelo_v2.predict(X_teste)"
   ]
  },
  {
   "cell_type": "code",
   "execution_count": 78,
   "id": "93dbaecc-8f0c-4281-938f-24c394d82cce",
   "metadata": {},
   "outputs": [
    {
     "name": "stderr",
     "output_type": "stream",
     "text": [
      "C:\\Users\\coswe\\anaconda3\\Lib\\site-packages\\sklearn\\metrics\\_regression.py:483: FutureWarning: 'squared' is deprecated in version 1.4 and will be removed in 1.6. To calculate the root mean squared error, use the function'root_mean_squared_error'.\n",
      "  warnings.warn(\n"
     ]
    }
   ],
   "source": [
    "# Avaliando o modelo atualizado\n",
    "rmse_v2 = mean_squared_error(y_teste, y_pred_v2, squared = False)\n",
    "r2_v2 = r2_score(y_teste, y_pred_v2)"
   ]
  },
  {
   "cell_type": "code",
   "execution_count": 79,
   "id": "4c2f7a0d-f92b-43b5-8741-55f38a5a9655",
   "metadata": {},
   "outputs": [
    {
     "name": "stdout",
     "output_type": "stream",
     "text": [
      "5.123545938744094\n"
     ]
    }
   ],
   "source": [
    "print(rmse_v2)"
   ]
  },
  {
   "cell_type": "code",
   "execution_count": 80,
   "id": "94e4ae09-ead6-43ac-b1e5-c6aa053d824e",
   "metadata": {},
   "outputs": [
    {
     "name": "stdout",
     "output_type": "stream",
     "text": [
      "0.41624318669246574\n"
     ]
    }
   ],
   "source": [
    "print(r2_v2)"
   ]
  },
  {
   "cell_type": "markdown",
   "id": "7cf95d8e-b0b4-4c93-b82d-a0b1d15ec6b3",
   "metadata": {},
   "source": [
    "## Análise dos Resultados:\n",
    "\n",
    "As diferenças nas métricas entre os dois blocos de código (versão 1 e 2 dos modelos) podem ser atribuídas principalmente à forma como as variáveis categóricas são tratadas no pré-processamento antes de ajustar o modelo de regressão linear. Vamos analisar os principais pontos que contribuem para essa diferença:\n",
    "\n",
    "**Tratamento de Variáveis Categóricas**\n",
    "\n",
    "Versão 1: Todas as variáveis categóricas são tratadas usando OneHotEncoder com a opção drop='first', o que reduz a multicolinearidade ao remover uma categoria de cada variável categórica transformada. Este método cria variáveis dummy para cada categoria, excluindo a primeira para evitar a redundância.\n",
    "\n",
    "Versão 2: Separa as variáveis categóricas em nominais e ordinais. As nominais continuam sendo tratadas com OneHotEncoder (também com drop='first'), enquanto as ordinais são tratadas com OrdinalEncoder. Esta abordagem mantém a ordem natural das variáveis categóricas ordinais, o que pode ser importante dependendo da relação entre a variável categórica e a variável dependente.\n",
    "\n",
    "**Impacto no Modelo**\n",
    "\n",
    "Representação de Dados: A principal diferença entre os blocos está na forma como as informações categóricas são representadas e inseridas no modelo. Ao tratar variáveis ordinais de maneira diferenciada, o Bloco 2 pode capturar melhor a relação ordinal inerente, o que, teoricamente, poderia levar a uma modelagem mais precisa.\n",
    "\n",
    "Resultados: Na prática, as métricas de desempenho (RMSE e R²) do Bloco 2 são ligeiramente piores do que as do Bloco 1. Isso pode indicar que, para este conjunto específico de dados e tarefa de modelagem, a informação capturada pela codificação ordinal não compensou a complexidade adicional ou a representação simplificada que ela oferece. Outra possibilidade é que a relação entre a variável categórica ordinal e a variável dependente não seja linear ou não se beneficie da representação ordinal neste contexto específico.\n",
    "\n",
    "**Considerações**\n",
    "\n",
    "Escolha do Método de Codificação: A escolha entre diferentes métodos de codificação **depende** da natureza das variáveis categóricas e de como elas se relacionam com a variável dependente. Nem sempre a abordagem mais complexa (separando nominais de ordinais) resulta em melhor desempenho do modelo.\n",
    "\n",
    "Ajustes no Modelo: Alterações no pré-processamento e na codificação das variáveis podem requerer ajustes adicionais no modelo, como a seleção de variáveis ou a otimização de hiperparâmetros.\n",
    "\n",
    "Vamos usar a versão 1 para a análise das variáveis."
   ]
  },
  {
   "cell_type": "markdown",
   "id": "649b08c9-e46c-4cc3-a331-8240f03b453a",
   "metadata": {},
   "source": [
    "## Interpretação a Relação das Variáveis Preditoras com a Variável alvo"
   ]
  },
  {
   "cell_type": "code",
   "execution_count": 81,
   "id": "e3958d14-a05e-4987-976f-a3b7f8a01cc0",
   "metadata": {},
   "outputs": [],
   "source": [
    "# Para extrair os coeficientes, precisamos acessar o regressor dentro do pipeline...\n",
    "model_regressor = modelo_v1.named_steps['regressor']"
   ]
  },
  {
   "cell_type": "code",
   "execution_count": 82,
   "id": "acfa4980-9d9f-4e64-8c33-764c5b79097c",
   "metadata": {},
   "outputs": [],
   "source": [
    "# ... e também a transformação One-Hot para obter os nomes das variáveis\n",
    "atrib_cat = modelo_v1.named_steps['preprocessor'].transformers_[1][1].get_feature_names_out(categorical_features)"
   ]
  },
  {
   "cell_type": "code",
   "execution_count": 83,
   "id": "f7623c8f-c89e-4503-a751-7dd474fef50e",
   "metadata": {},
   "outputs": [
    {
     "data": {
      "text/plain": [
       "array(['status_entrega_Medio', 'status_entrega_Ruim', 'area_urbana_Sim',\n",
       "       'cliente_local_Sim'], dtype=object)"
      ]
     },
     "execution_count": 83,
     "metadata": {},
     "output_type": "execute_result"
    }
   ],
   "source": [
    "atrib_cat"
   ]
  },
  {
   "cell_type": "code",
   "execution_count": 86,
   "id": "11573a48-7df0-4f29-8170-c01ad6204362",
   "metadata": {},
   "outputs": [],
   "source": [
    "# Combinando os nomes das variáveis numéricas e categóricas transformadas\n",
    "nomes_todos_atributos = numerical_features + list(atrib_cat)"
   ]
  },
  {
   "cell_type": "code",
   "execution_count": 84,
   "id": "b9479e2a-a2f4-4100-a9f8-05f1b62715bd",
   "metadata": {},
   "outputs": [],
   "source": [
    "# Coeficientes do modelo\n",
    "coeficientes = model_regressor.coef_"
   ]
  },
  {
   "cell_type": "code",
   "execution_count": 85,
   "id": "15ede17c-a605-4e14-8d3c-1456e849a059",
   "metadata": {},
   "outputs": [
    {
     "data": {
      "text/plain": [
       "array([ 1.5759904 , -0.17500897,  0.36883283,  1.33280247,  1.70116209,\n",
       "       -0.36918643,  9.04891871])"
      ]
     },
     "execution_count": 85,
     "metadata": {},
     "output_type": "execute_result"
    }
   ],
   "source": [
    "coeficientes"
   ]
  },
  {
   "cell_type": "code",
   "execution_count": 87,
   "id": "d168f033-8e2c-41e3-afc4-b1c8b49fdcd8",
   "metadata": {},
   "outputs": [],
   "source": [
    "coef_df = pd.DataFrame({'Atributo': nomes_todos_atributos, 'Coeficiente': coeficientes})"
   ]
  },
  {
   "cell_type": "code",
   "execution_count": 88,
   "id": "1b02f48f-6a62-42d3-b0fe-97b31dcf8327",
   "metadata": {},
   "outputs": [],
   "source": [
    "# Ordenando os coeficientes por magnitude (valor absoluto)\n",
    "coef_df = coef_df.reindex(coef_df.Coeficiente.abs().sort_values(ascending = False).index)"
   ]
  },
  {
   "cell_type": "code",
   "execution_count": 90,
   "id": "a39cef46-64e2-4d43-a73b-d6d88bb8cd3e",
   "metadata": {},
   "outputs": [
    {
     "data": {
      "text/html": [
       "<div>\n",
       "<style scoped>\n",
       "    .dataframe tbody tr th:only-of-type {\n",
       "        vertical-align: middle;\n",
       "    }\n",
       "\n",
       "    .dataframe tbody tr th {\n",
       "        vertical-align: top;\n",
       "    }\n",
       "\n",
       "    .dataframe thead th {\n",
       "        text-align: right;\n",
       "    }\n",
       "</style>\n",
       "<table border=\"1\" class=\"dataframe\">\n",
       "  <thead>\n",
       "    <tr style=\"text-align: right;\">\n",
       "      <th></th>\n",
       "      <th>Atributo</th>\n",
       "      <th>Coeficiente</th>\n",
       "    </tr>\n",
       "  </thead>\n",
       "  <tbody>\n",
       "    <tr>\n",
       "      <th>6</th>\n",
       "      <td>cliente_local_Sim</td>\n",
       "      <td>9.048919</td>\n",
       "    </tr>\n",
       "    <tr>\n",
       "      <th>4</th>\n",
       "      <td>status_entrega_Ruim</td>\n",
       "      <td>1.701162</td>\n",
       "    </tr>\n",
       "    <tr>\n",
       "      <th>0</th>\n",
       "      <td>valor_venda_unitario</td>\n",
       "      <td>1.575990</td>\n",
       "    </tr>\n",
       "    <tr>\n",
       "      <th>3</th>\n",
       "      <td>status_entrega_Medio</td>\n",
       "      <td>1.332802</td>\n",
       "    </tr>\n",
       "    <tr>\n",
       "      <th>5</th>\n",
       "      <td>area_urbana_Sim</td>\n",
       "      <td>-0.369186</td>\n",
       "    </tr>\n",
       "    <tr>\n",
       "      <th>2</th>\n",
       "      <td>idade_vendedor</td>\n",
       "      <td>0.368833</td>\n",
       "    </tr>\n",
       "    <tr>\n",
       "      <th>1</th>\n",
       "      <td>valor_venda_total</td>\n",
       "      <td>-0.175009</td>\n",
       "    </tr>\n",
       "  </tbody>\n",
       "</table>\n",
       "</div>"
      ],
      "text/plain": [
       "               Atributo  Coeficiente\n",
       "6     cliente_local_Sim     9.048919\n",
       "4   status_entrega_Ruim     1.701162\n",
       "0  valor_venda_unitario     1.575990\n",
       "3  status_entrega_Medio     1.332802\n",
       "5       area_urbana_Sim    -0.369186\n",
       "2        idade_vendedor     0.368833\n",
       "1     valor_venda_total    -0.175009"
      ]
     },
     "execution_count": 90,
     "metadata": {},
     "output_type": "execute_result"
    }
   ],
   "source": [
    "coef_df"
   ]
  },
  {
   "cell_type": "markdown",
   "id": "5ac654bf-266a-4487-8a9a-2434fa598832",
   "metadata": {},
   "source": [
    "- A interpretação dos coeficientes em um modelo de regressão linear fornece insights sobre como cada variável preditora (ou \"feature\") influencia a variável alvo, assumindo que todas as outras variáveis no modelo permanecem constantes. Aqui está uma interpretação detalhada dos coeficientes fornecidos:\n",
    "\n",
    "**cliente_local_Sim (9.048919)**: Quando o cliente é local (Sim), espera-se, em média, um aumento de aproximadamente 9.05 unidades no custo de entrega, comparado a quando o cliente não é local (base ou referência), mantendo as demais variáveis constantes. Esta variável tem o impacto mais significativo entre as examinadas.\n",
    "\n",
    "**status_entrega_Ruim (1.701162)**: Ter um status de entrega classificado como \"Ruim\" está associado a um aumento de cerca de 1.70 unidades no custo de entrega, comparado à categoria de base (que pode ser \"Bom\"), mantendo as demais variáveis constantes.\n",
    "\n",
    "**valor_venda_unitario (1.575990)**: Um aumento de uma unidade no valor de venda unitário está associado a um aumento de aproximadamente 1.58 unidades no custo de entrega, mantendo as demais variáveis constantes.\n",
    "\n",
    "**status_entrega_Medio (1.332802)**: Um status de entrega \"Medio\" está associado a um aumento de cerca de 1.33 unidades no custo de entrega, comparado à categoria de base, mantendo as demais variáveis constantes.\n",
    "\n",
    "**area_urbana_Sim (-0.369186)**: Vendas realizadas em áreas urbanas estão associadas a uma diminuição de aproximadamente 0.37 unidades no custo de entrega, comparadas a vendas em áreas não urbanas (base ou referência), mantendo as demais variáveis constantes.\n",
    "\n",
    "**idade_vendedor (0.368833)**: Um aumento de um ano na idade do vendedor está associado a um aumento de cerca de 0.37 unidades no custo de entrega, mantendo as demais variáveis constantes.\n",
    "\n",
    "**valor_venda_total (-0.175009)**: Um aumento de uma unidade no valor total de venda está associado a uma diminuição de aproximadamente 0.18 unidades no custo de entrega, mantendo as demais variáveis constantes.\n",
    "\n",
    "Interpretação Geral:\n",
    "\n",
    "- Variáveis com coeficientes positivos aumentam o custo de entrega quando aumentam (ou estão presentes, no caso de variáveis categóricas binárias como \"cliente_local_Sim\").\n",
    "- Variáveis com coeficientes negativos diminuem o custo de entrega quando aumentam.\n",
    "- A magnitude do coeficiente indica o tamanho do efeito: variáveis com coeficientes maiores têm um impacto mais significativo na variável alvo.\n",
    "- É importante lembrar que esses efeitos são modelados para ocorrer mantendo todas as outras variáveis constantes, o que nem sempre pode ser o caso na prática."
   ]
  },
  {
   "cell_type": "code",
   "execution_count": null,
   "id": "4bda77ba-02d3-4c43-b3cf-e23298b9016b",
   "metadata": {},
   "outputs": [],
   "source": []
  }
 ],
 "metadata": {
  "kernelspec": {
   "display_name": "Python 3 (ipykernel)",
   "language": "python",
   "name": "python3"
  },
  "language_info": {
   "codemirror_mode": {
    "name": "ipython",
    "version": 3
   },
   "file_extension": ".py",
   "mimetype": "text/x-python",
   "name": "python",
   "nbconvert_exporter": "python",
   "pygments_lexer": "ipython3",
   "version": "3.12.4"
  }
 },
 "nbformat": 4,
 "nbformat_minor": 5
}
